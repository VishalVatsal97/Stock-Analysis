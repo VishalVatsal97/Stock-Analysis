{
  "nbformat": 4,
  "nbformat_minor": 0,
  "metadata": {
    "colab": {
      "name": "technical_submission.ipynb",
      "version": "0.3.2",
      "views": {},
      "default_view": {},
      "provenance": []
    },
    "kernelspec": {
      "name": "python3",
      "display_name": "Python 3"
    },
    "accelerator": "GPU"
  },
  "cells": [
    {
      "metadata": {
        "id": "km2-v9Ta1UHL",
        "colab_type": "text"
      },
      "cell_type": "markdown",
      "source": [
        "##Importing required libraries"
      ]
    },
    {
      "metadata": {
        "id": "EmpEgudq1gke",
        "colab_type": "code",
        "colab": {
          "autoexec": {
            "startup": false,
            "wait_interval": 0
          }
        }
      },
      "cell_type": "code",
      "source": [
        "import pandas as pd\n",
        "import numpy as np\n",
        "import seaborn as sns\n",
        "import matplotlib.pyplot as plt\n",
        "%matplotlib inline"
      ],
      "execution_count": 0,
      "outputs": []
    },
    {
      "metadata": {
        "id": "dnSWTvFu1_V4",
        "colab_type": "text"
      },
      "cell_type": "markdown",
      "source": [
        "##Downloading data from IEX trading api"
      ]
    },
    {
      "metadata": {
        "id": "hmeQnE1b2JD7",
        "colab_type": "code",
        "colab": {
          "autoexec": {
            "startup": false,
            "wait_interval": 0
          },
          "base_uri": "https://localhost:8080/",
          "height": 235
        },
        "outputId": "1b5e3c12-602f-40aa-83f4-960d32b854b0",
        "executionInfo": {
          "status": "ok",
          "timestamp": 1529433079731,
          "user_tz": -330,
          "elapsed": 1216,
          "user": {
            "displayName": "Vishal Vatsal",
            "photoUrl": "//lh5.googleusercontent.com/-qU-MxtnUxLg/AAAAAAAAAAI/AAAAAAAAADs/EYg-rIVjrjM/s50-c-k-no/photo.jpg",
            "userId": "114291710114027202565"
          }
        }
      },
      "cell_type": "code",
      "source": [
        "#api will return data in json format so we have to convert it into csv\n",
        "df_google=pd.read_json('https://api.iextrading.com/1.0/stock/'+\"GOOGL\"+'/chart/2y')\n",
        "df_google.to_csv(\"googlestocks.csv\")\n",
        "df_google=pd.read_csv(\"googlestocks.csv\")\n",
        "#date will be set as index\n",
        "df_google.set_index('date',inplace=True)\n",
        "#display the head of dataframe\n",
        "df_google.head()"
      ],
      "execution_count": 3,
      "outputs": [
        {
          "output_type": "execute_result",
          "data": {
            "text/html": [
              "<div>\n",
              "<style scoped>\n",
              "    .dataframe tbody tr th:only-of-type {\n",
              "        vertical-align: middle;\n",
              "    }\n",
              "\n",
              "    .dataframe tbody tr th {\n",
              "        vertical-align: top;\n",
              "    }\n",
              "\n",
              "    .dataframe thead th {\n",
              "        text-align: right;\n",
              "    }\n",
              "</style>\n",
              "<table border=\"1\" class=\"dataframe\">\n",
              "  <thead>\n",
              "    <tr style=\"text-align: right;\">\n",
              "      <th></th>\n",
              "      <th>Unnamed: 0</th>\n",
              "      <th>change</th>\n",
              "      <th>changeOverTime</th>\n",
              "      <th>changePercent</th>\n",
              "      <th>close</th>\n",
              "      <th>high</th>\n",
              "      <th>label</th>\n",
              "      <th>low</th>\n",
              "      <th>open</th>\n",
              "      <th>unadjustedVolume</th>\n",
              "      <th>volume</th>\n",
              "      <th>vwap</th>\n",
              "    </tr>\n",
              "    <tr>\n",
              "      <th>date</th>\n",
              "      <th></th>\n",
              "      <th></th>\n",
              "      <th></th>\n",
              "      <th></th>\n",
              "      <th></th>\n",
              "      <th></th>\n",
              "      <th></th>\n",
              "      <th></th>\n",
              "      <th></th>\n",
              "      <th></th>\n",
              "      <th></th>\n",
              "      <th></th>\n",
              "    </tr>\n",
              "  </thead>\n",
              "  <tbody>\n",
              "    <tr>\n",
              "      <th>2016-06-20</th>\n",
              "      <td>0</td>\n",
              "      <td>1.88</td>\n",
              "      <td>0.000000</td>\n",
              "      <td>0.267</td>\n",
              "      <td>706.13</td>\n",
              "      <td>715.87</td>\n",
              "      <td>Jun 20, 16</td>\n",
              "      <td>705.41</td>\n",
              "      <td>710.31</td>\n",
              "      <td>2282725</td>\n",
              "      <td>2282725</td>\n",
              "      <td>710.0536</td>\n",
              "    </tr>\n",
              "    <tr>\n",
              "      <th>2016-06-21</th>\n",
              "      <td>1</td>\n",
              "      <td>2.75</td>\n",
              "      <td>0.003894</td>\n",
              "      <td>0.389</td>\n",
              "      <td>708.88</td>\n",
              "      <td>715.38</td>\n",
              "      <td>Jun 21, 16</td>\n",
              "      <td>704.66</td>\n",
              "      <td>710.05</td>\n",
              "      <td>1515918</td>\n",
              "      <td>1515918</td>\n",
              "      <td>708.9930</td>\n",
              "    </tr>\n",
              "    <tr>\n",
              "      <th>2016-06-22</th>\n",
              "      <td>2</td>\n",
              "      <td>1.59</td>\n",
              "      <td>0.006146</td>\n",
              "      <td>0.224</td>\n",
              "      <td>710.47</td>\n",
              "      <td>714.21</td>\n",
              "      <td>Jun 22, 16</td>\n",
              "      <td>705.88</td>\n",
              "      <td>714.05</td>\n",
              "      <td>1452884</td>\n",
              "      <td>1452884</td>\n",
              "      <td>710.5150</td>\n",
              "    </tr>\n",
              "    <tr>\n",
              "      <th>2016-06-23</th>\n",
              "      <td>3</td>\n",
              "      <td>4.40</td>\n",
              "      <td>0.012377</td>\n",
              "      <td>0.619</td>\n",
              "      <td>714.87</td>\n",
              "      <td>714.88</td>\n",
              "      <td>Jun 23, 16</td>\n",
              "      <td>700.25</td>\n",
              "      <td>710.55</td>\n",
              "      <td>2125028</td>\n",
              "      <td>2125028</td>\n",
              "      <td>707.5612</td>\n",
              "    </tr>\n",
              "    <tr>\n",
              "      <th>2016-06-24</th>\n",
              "      <td>4</td>\n",
              "      <td>-29.67</td>\n",
              "      <td>-0.029640</td>\n",
              "      <td>-4.150</td>\n",
              "      <td>685.20</td>\n",
              "      <td>705.00</td>\n",
              "      <td>Jun 24, 16</td>\n",
              "      <td>684.91</td>\n",
              "      <td>690.17</td>\n",
              "      <td>4771780</td>\n",
              "      <td>4771780</td>\n",
              "      <td>690.8138</td>\n",
              "    </tr>\n",
              "  </tbody>\n",
              "</table>\n",
              "</div>"
            ],
            "text/plain": [
              "            Unnamed: 0  change  changeOverTime  changePercent   close    high  \\\n",
              "date                                                                            \n",
              "2016-06-20           0    1.88        0.000000          0.267  706.13  715.87   \n",
              "2016-06-21           1    2.75        0.003894          0.389  708.88  715.38   \n",
              "2016-06-22           2    1.59        0.006146          0.224  710.47  714.21   \n",
              "2016-06-23           3    4.40        0.012377          0.619  714.87  714.88   \n",
              "2016-06-24           4  -29.67       -0.029640         -4.150  685.20  705.00   \n",
              "\n",
              "                 label     low    open  unadjustedVolume   volume      vwap  \n",
              "date                                                                         \n",
              "2016-06-20  Jun 20, 16  705.41  710.31           2282725  2282725  710.0536  \n",
              "2016-06-21  Jun 21, 16  704.66  710.05           1515918  1515918  708.9930  \n",
              "2016-06-22  Jun 22, 16  705.88  714.05           1452884  1452884  710.5150  \n",
              "2016-06-23  Jun 23, 16  700.25  710.55           2125028  2125028  707.5612  \n",
              "2016-06-24  Jun 24, 16  684.91  690.17           4771780  4771780  690.8138  "
            ]
          },
          "metadata": {
            "tags": []
          },
          "execution_count": 3
        }
      ]
    },
    {
      "metadata": {
        "id": "NnefI6OU5nDq",
        "colab_type": "text"
      },
      "cell_type": "markdown",
      "source": [
        "##Downloading the data for other Companies"
      ]
    },
    {
      "metadata": {
        "id": "cAnnq4Tv5ses",
        "colab_type": "code",
        "colab": {
          "autoexec": {
            "startup": false,
            "wait_interval": 0
          },
          "base_uri": "https://localhost:8080/",
          "height": 235
        },
        "outputId": "9cec6719-49d3-4823-c4a1-e6a21cd940ce",
        "executionInfo": {
          "status": "ok",
          "timestamp": 1529433084285,
          "user_tz": -330,
          "elapsed": 1031,
          "user": {
            "displayName": "Vishal Vatsal",
            "photoUrl": "//lh5.googleusercontent.com/-qU-MxtnUxLg/AAAAAAAAAAI/AAAAAAAAADs/EYg-rIVjrjM/s50-c-k-no/photo.jpg",
            "userId": "114291710114027202565"
          }
        }
      },
      "cell_type": "code",
      "source": [
        "df_amzn=pd.read_json('https://api.iextrading.com/1.0/stock/'+\"AMZN\"+'/chart/2y')\n",
        "df_amzn.to_csv(\"amznstocks.csv\")\n",
        "df_amzn=pd.read_csv(\"amznstocks.csv\")\n",
        "df_amzn.set_index('date',inplace=True)\n",
        "df_amzn.head()"
      ],
      "execution_count": 4,
      "outputs": [
        {
          "output_type": "execute_result",
          "data": {
            "text/html": [
              "<div>\n",
              "<style scoped>\n",
              "    .dataframe tbody tr th:only-of-type {\n",
              "        vertical-align: middle;\n",
              "    }\n",
              "\n",
              "    .dataframe tbody tr th {\n",
              "        vertical-align: top;\n",
              "    }\n",
              "\n",
              "    .dataframe thead th {\n",
              "        text-align: right;\n",
              "    }\n",
              "</style>\n",
              "<table border=\"1\" class=\"dataframe\">\n",
              "  <thead>\n",
              "    <tr style=\"text-align: right;\">\n",
              "      <th></th>\n",
              "      <th>Unnamed: 0</th>\n",
              "      <th>change</th>\n",
              "      <th>changeOverTime</th>\n",
              "      <th>changePercent</th>\n",
              "      <th>close</th>\n",
              "      <th>high</th>\n",
              "      <th>label</th>\n",
              "      <th>low</th>\n",
              "      <th>open</th>\n",
              "      <th>unadjustedVolume</th>\n",
              "      <th>volume</th>\n",
              "      <th>vwap</th>\n",
              "    </tr>\n",
              "    <tr>\n",
              "      <th>date</th>\n",
              "      <th></th>\n",
              "      <th></th>\n",
              "      <th></th>\n",
              "      <th></th>\n",
              "      <th></th>\n",
              "      <th></th>\n",
              "      <th></th>\n",
              "      <th></th>\n",
              "      <th></th>\n",
              "      <th></th>\n",
              "      <th></th>\n",
              "      <th></th>\n",
              "    </tr>\n",
              "  </thead>\n",
              "  <tbody>\n",
              "    <tr>\n",
              "      <th>2016-06-20</th>\n",
              "      <td>0</td>\n",
              "      <td>7.62</td>\n",
              "      <td>0.000000</td>\n",
              "      <td>1.079</td>\n",
              "      <td>714.01</td>\n",
              "      <td>721.3100</td>\n",
              "      <td>Jun 20, 16</td>\n",
              "      <td>710.810</td>\n",
              "      <td>713.50</td>\n",
              "      <td>3677162</td>\n",
              "      <td>3677162</td>\n",
              "      <td>716.5471</td>\n",
              "    </tr>\n",
              "    <tr>\n",
              "      <th>2016-06-21</th>\n",
              "      <td>1</td>\n",
              "      <td>1.81</td>\n",
              "      <td>0.002535</td>\n",
              "      <td>0.253</td>\n",
              "      <td>715.82</td>\n",
              "      <td>718.4000</td>\n",
              "      <td>Jun 21, 16</td>\n",
              "      <td>712.721</td>\n",
              "      <td>715.72</td>\n",
              "      <td>2137534</td>\n",
              "      <td>2137534</td>\n",
              "      <td>715.5179</td>\n",
              "    </tr>\n",
              "    <tr>\n",
              "      <th>2016-06-22</th>\n",
              "      <td>2</td>\n",
              "      <td>-5.22</td>\n",
              "      <td>-0.004776</td>\n",
              "      <td>-0.729</td>\n",
              "      <td>710.60</td>\n",
              "      <td>717.0000</td>\n",
              "      <td>Jun 22, 16</td>\n",
              "      <td>707.565</td>\n",
              "      <td>716.58</td>\n",
              "      <td>2260454</td>\n",
              "      <td>2260454</td>\n",
              "      <td>711.5799</td>\n",
              "    </tr>\n",
              "    <tr>\n",
              "      <th>2016-06-23</th>\n",
              "      <td>3</td>\n",
              "      <td>11.48</td>\n",
              "      <td>0.011302</td>\n",
              "      <td>1.616</td>\n",
              "      <td>722.08</td>\n",
              "      <td>722.1200</td>\n",
              "      <td>Jun 23, 16</td>\n",
              "      <td>712.500</td>\n",
              "      <td>715.50</td>\n",
              "      <td>2824974</td>\n",
              "      <td>2824974</td>\n",
              "      <td>718.7545</td>\n",
              "    </tr>\n",
              "    <tr>\n",
              "      <th>2016-06-24</th>\n",
              "      <td>4</td>\n",
              "      <td>-23.12</td>\n",
              "      <td>-0.021078</td>\n",
              "      <td>-3.202</td>\n",
              "      <td>698.96</td>\n",
              "      <td>712.5292</td>\n",
              "      <td>Jun 24, 16</td>\n",
              "      <td>692.200</td>\n",
              "      <td>693.00</td>\n",
              "      <td>7632511</td>\n",
              "      <td>7632511</td>\n",
              "      <td>701.6732</td>\n",
              "    </tr>\n",
              "  </tbody>\n",
              "</table>\n",
              "</div>"
            ],
            "text/plain": [
              "            Unnamed: 0  change  changeOverTime  changePercent   close  \\\n",
              "date                                                                    \n",
              "2016-06-20           0    7.62        0.000000          1.079  714.01   \n",
              "2016-06-21           1    1.81        0.002535          0.253  715.82   \n",
              "2016-06-22           2   -5.22       -0.004776         -0.729  710.60   \n",
              "2016-06-23           3   11.48        0.011302          1.616  722.08   \n",
              "2016-06-24           4  -23.12       -0.021078         -3.202  698.96   \n",
              "\n",
              "                high       label      low    open  unadjustedVolume   volume  \\\n",
              "date                                                                           \n",
              "2016-06-20  721.3100  Jun 20, 16  710.810  713.50           3677162  3677162   \n",
              "2016-06-21  718.4000  Jun 21, 16  712.721  715.72           2137534  2137534   \n",
              "2016-06-22  717.0000  Jun 22, 16  707.565  716.58           2260454  2260454   \n",
              "2016-06-23  722.1200  Jun 23, 16  712.500  715.50           2824974  2824974   \n",
              "2016-06-24  712.5292  Jun 24, 16  692.200  693.00           7632511  7632511   \n",
              "\n",
              "                vwap  \n",
              "date                  \n",
              "2016-06-20  716.5471  \n",
              "2016-06-21  715.5179  \n",
              "2016-06-22  711.5799  \n",
              "2016-06-23  718.7545  \n",
              "2016-06-24  701.6732  "
            ]
          },
          "metadata": {
            "tags": []
          },
          "execution_count": 4
        }
      ]
    },
    {
      "metadata": {
        "id": "DM99ZZMR6DCQ",
        "colab_type": "code",
        "colab": {
          "autoexec": {
            "startup": false,
            "wait_interval": 0
          },
          "base_uri": "https://localhost:8080/",
          "height": 235
        },
        "outputId": "8a104d9c-454a-4195-a67c-604c80d579ab",
        "executionInfo": {
          "status": "ok",
          "timestamp": 1529433101508,
          "user_tz": -330,
          "elapsed": 1088,
          "user": {
            "displayName": "Vishal Vatsal",
            "photoUrl": "//lh5.googleusercontent.com/-qU-MxtnUxLg/AAAAAAAAAAI/AAAAAAAAADs/EYg-rIVjrjM/s50-c-k-no/photo.jpg",
            "userId": "114291710114027202565"
          }
        }
      },
      "cell_type": "code",
      "source": [
        "df_fb=pd.read_json('https://api.iextrading.com/1.0/stock/'+\"FB\"+'/chart/2y')\n",
        "df_fb.to_csv(\"fbstocks.csv\")\n",
        "df_fb=pd.read_csv(\"fbstocks.csv\")\n",
        "df_fb.set_index('date',inplace=True)\n",
        "df_fb.head()"
      ],
      "execution_count": 5,
      "outputs": [
        {
          "output_type": "execute_result",
          "data": {
            "text/html": [
              "<div>\n",
              "<style scoped>\n",
              "    .dataframe tbody tr th:only-of-type {\n",
              "        vertical-align: middle;\n",
              "    }\n",
              "\n",
              "    .dataframe tbody tr th {\n",
              "        vertical-align: top;\n",
              "    }\n",
              "\n",
              "    .dataframe thead th {\n",
              "        text-align: right;\n",
              "    }\n",
              "</style>\n",
              "<table border=\"1\" class=\"dataframe\">\n",
              "  <thead>\n",
              "    <tr style=\"text-align: right;\">\n",
              "      <th></th>\n",
              "      <th>Unnamed: 0</th>\n",
              "      <th>change</th>\n",
              "      <th>changeOverTime</th>\n",
              "      <th>changePercent</th>\n",
              "      <th>close</th>\n",
              "      <th>high</th>\n",
              "      <th>label</th>\n",
              "      <th>low</th>\n",
              "      <th>open</th>\n",
              "      <th>unadjustedVolume</th>\n",
              "      <th>volume</th>\n",
              "      <th>vwap</th>\n",
              "    </tr>\n",
              "    <tr>\n",
              "      <th>date</th>\n",
              "      <th></th>\n",
              "      <th></th>\n",
              "      <th></th>\n",
              "      <th></th>\n",
              "      <th></th>\n",
              "      <th></th>\n",
              "      <th></th>\n",
              "      <th></th>\n",
              "      <th></th>\n",
              "      <th></th>\n",
              "      <th></th>\n",
              "      <th></th>\n",
              "    </tr>\n",
              "  </thead>\n",
              "  <tbody>\n",
              "    <tr>\n",
              "      <th>2016-06-20</th>\n",
              "      <td>0</td>\n",
              "      <td>0.35</td>\n",
              "      <td>0.000000</td>\n",
              "      <td>0.310</td>\n",
              "      <td>113.37</td>\n",
              "      <td>114.7200</td>\n",
              "      <td>Jun 20, 16</td>\n",
              "      <td>112.75</td>\n",
              "      <td>113.77</td>\n",
              "      <td>20785390</td>\n",
              "      <td>20785390</td>\n",
              "      <td>113.8869</td>\n",
              "    </tr>\n",
              "    <tr>\n",
              "      <th>2016-06-21</th>\n",
              "      <td>1</td>\n",
              "      <td>1.01</td>\n",
              "      <td>0.008909</td>\n",
              "      <td>0.891</td>\n",
              "      <td>114.38</td>\n",
              "      <td>115.2142</td>\n",
              "      <td>Jun 21, 16</td>\n",
              "      <td>113.97</td>\n",
              "      <td>114.12</td>\n",
              "      <td>19166269</td>\n",
              "      <td>19166269</td>\n",
              "      <td>114.5592</td>\n",
              "    </tr>\n",
              "    <tr>\n",
              "      <th>2016-06-22</th>\n",
              "      <td>2</td>\n",
              "      <td>-0.47</td>\n",
              "      <td>0.004763</td>\n",
              "      <td>-0.411</td>\n",
              "      <td>113.91</td>\n",
              "      <td>114.7400</td>\n",
              "      <td>Jun 22, 16</td>\n",
              "      <td>113.61</td>\n",
              "      <td>114.65</td>\n",
              "      <td>14846329</td>\n",
              "      <td>14846329</td>\n",
              "      <td>114.1607</td>\n",
              "    </tr>\n",
              "    <tr>\n",
              "      <th>2016-06-23</th>\n",
              "      <td>3</td>\n",
              "      <td>1.17</td>\n",
              "      <td>0.015083</td>\n",
              "      <td>1.027</td>\n",
              "      <td>115.08</td>\n",
              "      <td>115.0900</td>\n",
              "      <td>Jun 23, 16</td>\n",
              "      <td>113.54</td>\n",
              "      <td>114.37</td>\n",
              "      <td>16176895</td>\n",
              "      <td>16176895</td>\n",
              "      <td>114.4299</td>\n",
              "    </tr>\n",
              "    <tr>\n",
              "      <th>2016-06-24</th>\n",
              "      <td>4</td>\n",
              "      <td>-3.00</td>\n",
              "      <td>-0.011379</td>\n",
              "      <td>-2.607</td>\n",
              "      <td>112.08</td>\n",
              "      <td>113.6800</td>\n",
              "      <td>Jun 24, 16</td>\n",
              "      <td>111.00</td>\n",
              "      <td>111.01</td>\n",
              "      <td>40643130</td>\n",
              "      <td>40643130</td>\n",
              "      <td>112.5725</td>\n",
              "    </tr>\n",
              "  </tbody>\n",
              "</table>\n",
              "</div>"
            ],
            "text/plain": [
              "            Unnamed: 0  change  changeOverTime  changePercent   close  \\\n",
              "date                                                                    \n",
              "2016-06-20           0    0.35        0.000000          0.310  113.37   \n",
              "2016-06-21           1    1.01        0.008909          0.891  114.38   \n",
              "2016-06-22           2   -0.47        0.004763         -0.411  113.91   \n",
              "2016-06-23           3    1.17        0.015083          1.027  115.08   \n",
              "2016-06-24           4   -3.00       -0.011379         -2.607  112.08   \n",
              "\n",
              "                high       label     low    open  unadjustedVolume    volume  \\\n",
              "date                                                                           \n",
              "2016-06-20  114.7200  Jun 20, 16  112.75  113.77          20785390  20785390   \n",
              "2016-06-21  115.2142  Jun 21, 16  113.97  114.12          19166269  19166269   \n",
              "2016-06-22  114.7400  Jun 22, 16  113.61  114.65          14846329  14846329   \n",
              "2016-06-23  115.0900  Jun 23, 16  113.54  114.37          16176895  16176895   \n",
              "2016-06-24  113.6800  Jun 24, 16  111.00  111.01          40643130  40643130   \n",
              "\n",
              "                vwap  \n",
              "date                  \n",
              "2016-06-20  113.8869  \n",
              "2016-06-21  114.5592  \n",
              "2016-06-22  114.1607  \n",
              "2016-06-23  114.4299  \n",
              "2016-06-24  112.5725  "
            ]
          },
          "metadata": {
            "tags": []
          },
          "execution_count": 5
        }
      ]
    },
    {
      "metadata": {
        "id": "P2kdTsfM6SYu",
        "colab_type": "code",
        "colab": {
          "autoexec": {
            "startup": false,
            "wait_interval": 0
          },
          "base_uri": "https://localhost:8080/",
          "height": 235
        },
        "outputId": "47efc025-16ee-4768-f32b-c0084310e30d",
        "executionInfo": {
          "status": "ok",
          "timestamp": 1529433105085,
          "user_tz": -330,
          "elapsed": 1530,
          "user": {
            "displayName": "Vishal Vatsal",
            "photoUrl": "//lh5.googleusercontent.com/-qU-MxtnUxLg/AAAAAAAAAAI/AAAAAAAAADs/EYg-rIVjrjM/s50-c-k-no/photo.jpg",
            "userId": "114291710114027202565"
          }
        }
      },
      "cell_type": "code",
      "source": [
        "df_nflx=pd.read_json('https://api.iextrading.com/1.0/stock/'+\"NFLX\"+'/chart/2y')\n",
        "df_nflx.to_csv(\"nflxstocks.csv\")\n",
        "df_nflx=pd.read_csv(\"nflxstocks.csv\")\n",
        "df_nflx.set_index('date',inplace=True)\n",
        "df_nflx.head()"
      ],
      "execution_count": 6,
      "outputs": [
        {
          "output_type": "execute_result",
          "data": {
            "text/html": [
              "<div>\n",
              "<style scoped>\n",
              "    .dataframe tbody tr th:only-of-type {\n",
              "        vertical-align: middle;\n",
              "    }\n",
              "\n",
              "    .dataframe tbody tr th {\n",
              "        vertical-align: top;\n",
              "    }\n",
              "\n",
              "    .dataframe thead th {\n",
              "        text-align: right;\n",
              "    }\n",
              "</style>\n",
              "<table border=\"1\" class=\"dataframe\">\n",
              "  <thead>\n",
              "    <tr style=\"text-align: right;\">\n",
              "      <th></th>\n",
              "      <th>Unnamed: 0</th>\n",
              "      <th>change</th>\n",
              "      <th>changeOverTime</th>\n",
              "      <th>changePercent</th>\n",
              "      <th>close</th>\n",
              "      <th>high</th>\n",
              "      <th>label</th>\n",
              "      <th>low</th>\n",
              "      <th>open</th>\n",
              "      <th>unadjustedVolume</th>\n",
              "      <th>volume</th>\n",
              "      <th>vwap</th>\n",
              "    </tr>\n",
              "    <tr>\n",
              "      <th>date</th>\n",
              "      <th></th>\n",
              "      <th></th>\n",
              "      <th></th>\n",
              "      <th></th>\n",
              "      <th></th>\n",
              "      <th></th>\n",
              "      <th></th>\n",
              "      <th></th>\n",
              "      <th></th>\n",
              "      <th></th>\n",
              "      <th></th>\n",
              "      <th></th>\n",
              "    </tr>\n",
              "  </thead>\n",
              "  <tbody>\n",
              "    <tr>\n",
              "      <th>2016-06-20</th>\n",
              "      <td>0</td>\n",
              "      <td>-0.65</td>\n",
              "      <td>0.000000</td>\n",
              "      <td>-0.688</td>\n",
              "      <td>93.80</td>\n",
              "      <td>95.88</td>\n",
              "      <td>Jun 20, 16</td>\n",
              "      <td>93.65</td>\n",
              "      <td>95.22</td>\n",
              "      <td>9026376</td>\n",
              "      <td>9026376</td>\n",
              "      <td>94.7816</td>\n",
              "    </tr>\n",
              "    <tr>\n",
              "      <th>2016-06-21</th>\n",
              "      <td>1</td>\n",
              "      <td>-2.81</td>\n",
              "      <td>-0.029957</td>\n",
              "      <td>-2.996</td>\n",
              "      <td>90.99</td>\n",
              "      <td>93.88</td>\n",
              "      <td>Jun 21, 16</td>\n",
              "      <td>90.77</td>\n",
              "      <td>93.87</td>\n",
              "      <td>15199727</td>\n",
              "      <td>15199727</td>\n",
              "      <td>91.5949</td>\n",
              "    </tr>\n",
              "    <tr>\n",
              "      <th>2016-06-22</th>\n",
              "      <td>2</td>\n",
              "      <td>-0.98</td>\n",
              "      <td>-0.040405</td>\n",
              "      <td>-1.077</td>\n",
              "      <td>90.01</td>\n",
              "      <td>91.98</td>\n",
              "      <td>Jun 22, 16</td>\n",
              "      <td>89.77</td>\n",
              "      <td>90.78</td>\n",
              "      <td>9454685</td>\n",
              "      <td>9454685</td>\n",
              "      <td>90.7571</td>\n",
              "    </tr>\n",
              "    <tr>\n",
              "      <th>2016-06-23</th>\n",
              "      <td>3</td>\n",
              "      <td>1.65</td>\n",
              "      <td>-0.022814</td>\n",
              "      <td>1.833</td>\n",
              "      <td>91.66</td>\n",
              "      <td>91.68</td>\n",
              "      <td>Jun 23, 16</td>\n",
              "      <td>88.15</td>\n",
              "      <td>90.62</td>\n",
              "      <td>10819033</td>\n",
              "      <td>10819033</td>\n",
              "      <td>90.4179</td>\n",
              "    </tr>\n",
              "    <tr>\n",
              "      <th>2016-06-24</th>\n",
              "      <td>4</td>\n",
              "      <td>-3.22</td>\n",
              "      <td>-0.057143</td>\n",
              "      <td>-3.513</td>\n",
              "      <td>88.44</td>\n",
              "      <td>90.49</td>\n",
              "      <td>Jun 24, 16</td>\n",
              "      <td>87.21</td>\n",
              "      <td>87.53</td>\n",
              "      <td>11248582</td>\n",
              "      <td>11248582</td>\n",
              "      <td>88.9395</td>\n",
              "    </tr>\n",
              "  </tbody>\n",
              "</table>\n",
              "</div>"
            ],
            "text/plain": [
              "            Unnamed: 0  change  changeOverTime  changePercent  close   high  \\\n",
              "date                                                                          \n",
              "2016-06-20           0   -0.65        0.000000         -0.688  93.80  95.88   \n",
              "2016-06-21           1   -2.81       -0.029957         -2.996  90.99  93.88   \n",
              "2016-06-22           2   -0.98       -0.040405         -1.077  90.01  91.98   \n",
              "2016-06-23           3    1.65       -0.022814          1.833  91.66  91.68   \n",
              "2016-06-24           4   -3.22       -0.057143         -3.513  88.44  90.49   \n",
              "\n",
              "                 label    low   open  unadjustedVolume    volume     vwap  \n",
              "date                                                                       \n",
              "2016-06-20  Jun 20, 16  93.65  95.22           9026376   9026376  94.7816  \n",
              "2016-06-21  Jun 21, 16  90.77  93.87          15199727  15199727  91.5949  \n",
              "2016-06-22  Jun 22, 16  89.77  90.78           9454685   9454685  90.7571  \n",
              "2016-06-23  Jun 23, 16  88.15  90.62          10819033  10819033  90.4179  \n",
              "2016-06-24  Jun 24, 16  87.21  87.53          11248582  11248582  88.9395  "
            ]
          },
          "metadata": {
            "tags": []
          },
          "execution_count": 6
        }
      ]
    },
    {
      "metadata": {
        "id": "CSAGIfFW6tJh",
        "colab_type": "code",
        "colab": {
          "autoexec": {
            "startup": false,
            "wait_interval": 0
          },
          "base_uri": "https://localhost:8080/",
          "height": 235
        },
        "outputId": "77ded3df-f96e-47a8-dbaa-b5d8f8c8b61c",
        "executionInfo": {
          "status": "ok",
          "timestamp": 1529433112699,
          "user_tz": -330,
          "elapsed": 1093,
          "user": {
            "displayName": "Vishal Vatsal",
            "photoUrl": "//lh5.googleusercontent.com/-qU-MxtnUxLg/AAAAAAAAAAI/AAAAAAAAADs/EYg-rIVjrjM/s50-c-k-no/photo.jpg",
            "userId": "114291710114027202565"
          }
        }
      },
      "cell_type": "code",
      "source": [
        "df_apple=pd.read_json('https://api.iextrading.com/1.0/stock/'+\"AAPL\"+'/chart/2y')\n",
        "df_apple.to_csv(\"applestocks.csv\")\n",
        "df_apple=pd.read_csv(\"applestocks.csv\")\n",
        "df_apple.set_index('date',inplace=True)\n",
        "df_apple.head()"
      ],
      "execution_count": 7,
      "outputs": [
        {
          "output_type": "execute_result",
          "data": {
            "text/html": [
              "<div>\n",
              "<style scoped>\n",
              "    .dataframe tbody tr th:only-of-type {\n",
              "        vertical-align: middle;\n",
              "    }\n",
              "\n",
              "    .dataframe tbody tr th {\n",
              "        vertical-align: top;\n",
              "    }\n",
              "\n",
              "    .dataframe thead th {\n",
              "        text-align: right;\n",
              "    }\n",
              "</style>\n",
              "<table border=\"1\" class=\"dataframe\">\n",
              "  <thead>\n",
              "    <tr style=\"text-align: right;\">\n",
              "      <th></th>\n",
              "      <th>Unnamed: 0</th>\n",
              "      <th>change</th>\n",
              "      <th>changeOverTime</th>\n",
              "      <th>changePercent</th>\n",
              "      <th>close</th>\n",
              "      <th>high</th>\n",
              "      <th>label</th>\n",
              "      <th>low</th>\n",
              "      <th>open</th>\n",
              "      <th>unadjustedVolume</th>\n",
              "      <th>volume</th>\n",
              "      <th>vwap</th>\n",
              "    </tr>\n",
              "    <tr>\n",
              "      <th>date</th>\n",
              "      <th></th>\n",
              "      <th></th>\n",
              "      <th></th>\n",
              "      <th></th>\n",
              "      <th></th>\n",
              "      <th></th>\n",
              "      <th></th>\n",
              "      <th></th>\n",
              "      <th></th>\n",
              "      <th></th>\n",
              "      <th></th>\n",
              "      <th></th>\n",
              "    </tr>\n",
              "  </thead>\n",
              "  <tbody>\n",
              "    <tr>\n",
              "      <th>2016-06-20</th>\n",
              "      <td>0</td>\n",
              "      <td>-0.222224</td>\n",
              "      <td>0.000000</td>\n",
              "      <td>-0.241</td>\n",
              "      <td>91.8846</td>\n",
              "      <td>93.3049</td>\n",
              "      <td>Jun 20, 16</td>\n",
              "      <td>91.8170</td>\n",
              "      <td>92.7542</td>\n",
              "      <td>34411901</td>\n",
              "      <td>34411901</td>\n",
              "      <td>92.6521</td>\n",
              "    </tr>\n",
              "    <tr>\n",
              "      <th>2016-06-21</th>\n",
              "      <td>1</td>\n",
              "      <td>0.782614</td>\n",
              "      <td>0.008517</td>\n",
              "      <td>0.852</td>\n",
              "      <td>92.6672</td>\n",
              "      <td>93.0924</td>\n",
              "      <td>Jun 21, 16</td>\n",
              "      <td>91.4750</td>\n",
              "      <td>91.7300</td>\n",
              "      <td>35546358</td>\n",
              "      <td>35546358</td>\n",
              "      <td>92.7040</td>\n",
              "    </tr>\n",
              "    <tr>\n",
              "      <th>2016-06-22</th>\n",
              "      <td>2</td>\n",
              "      <td>-0.347828</td>\n",
              "      <td>0.004732</td>\n",
              "      <td>-0.375</td>\n",
              "      <td>92.3194</td>\n",
              "      <td>93.6141</td>\n",
              "      <td>Jun 22, 16</td>\n",
              "      <td>92.1262</td>\n",
              "      <td>92.9957</td>\n",
              "      <td>29219122</td>\n",
              "      <td>29219122</td>\n",
              "      <td>92.7894</td>\n",
              "    </tr>\n",
              "    <tr>\n",
              "      <th>2016-06-23</th>\n",
              "      <td>3</td>\n",
              "      <td>0.531403</td>\n",
              "      <td>0.010515</td>\n",
              "      <td>0.576</td>\n",
              "      <td>92.8508</td>\n",
              "      <td>93.0344</td>\n",
              "      <td>Jun 23, 16</td>\n",
              "      <td>92.0296</td>\n",
              "      <td>92.6962</td>\n",
              "      <td>32240187</td>\n",
              "      <td>32240187</td>\n",
              "      <td>92.4952</td>\n",
              "    </tr>\n",
              "    <tr>\n",
              "      <th>2016-06-24</th>\n",
              "      <td>4</td>\n",
              "      <td>-2.608700</td>\n",
              "      <td>-0.017876</td>\n",
              "      <td>-2.810</td>\n",
              "      <td>90.2421</td>\n",
              "      <td>91.4547</td>\n",
              "      <td>Jun 24, 16</td>\n",
              "      <td>89.5175</td>\n",
              "      <td>89.7687</td>\n",
              "      <td>75311356</td>\n",
              "      <td>75311356</td>\n",
              "      <td>90.4238</td>\n",
              "    </tr>\n",
              "  </tbody>\n",
              "</table>\n",
              "</div>"
            ],
            "text/plain": [
              "            Unnamed: 0    change  changeOverTime  changePercent    close  \\\n",
              "date                                                                       \n",
              "2016-06-20           0 -0.222224        0.000000         -0.241  91.8846   \n",
              "2016-06-21           1  0.782614        0.008517          0.852  92.6672   \n",
              "2016-06-22           2 -0.347828        0.004732         -0.375  92.3194   \n",
              "2016-06-23           3  0.531403        0.010515          0.576  92.8508   \n",
              "2016-06-24           4 -2.608700       -0.017876         -2.810  90.2421   \n",
              "\n",
              "               high       label      low     open  unadjustedVolume    volume  \\\n",
              "date                                                                            \n",
              "2016-06-20  93.3049  Jun 20, 16  91.8170  92.7542          34411901  34411901   \n",
              "2016-06-21  93.0924  Jun 21, 16  91.4750  91.7300          35546358  35546358   \n",
              "2016-06-22  93.6141  Jun 22, 16  92.1262  92.9957          29219122  29219122   \n",
              "2016-06-23  93.0344  Jun 23, 16  92.0296  92.6962          32240187  32240187   \n",
              "2016-06-24  91.4547  Jun 24, 16  89.5175  89.7687          75311356  75311356   \n",
              "\n",
              "               vwap  \n",
              "date                 \n",
              "2016-06-20  92.6521  \n",
              "2016-06-21  92.7040  \n",
              "2016-06-22  92.7894  \n",
              "2016-06-23  92.4952  \n",
              "2016-06-24  90.4238  "
            ]
          },
          "metadata": {
            "tags": []
          },
          "execution_count": 7
        }
      ]
    },
    {
      "metadata": {
        "id": "EQObYOBG6317",
        "colab_type": "text"
      },
      "cell_type": "markdown",
      "source": [
        "#Performing data preprocessing\n",
        "\n",
        "Here the dataset contains data for two years but we need data from 01-01-2017 to 31-12-2017.By looking at the data we see that we have data available from 03-01-2017 to 29-12-2017 so, we will work only with the data between these dates."
      ]
    },
    {
      "metadata": {
        "id": "yfKsMr5R9Wq5",
        "colab_type": "code",
        "colab": {
          "autoexec": {
            "startup": false,
            "wait_interval": 0
          },
          "base_uri": "https://localhost:8080/",
          "height": 235
        },
        "outputId": "9125a8f1-2827-4259-cf9f-29444de6f9da",
        "executionInfo": {
          "status": "ok",
          "timestamp": 1529433119434,
          "user_tz": -330,
          "elapsed": 1328,
          "user": {
            "displayName": "Vishal Vatsal",
            "photoUrl": "//lh5.googleusercontent.com/-qU-MxtnUxLg/AAAAAAAAAAI/AAAAAAAAADs/EYg-rIVjrjM/s50-c-k-no/photo.jpg",
            "userId": "114291710114027202565"
          }
        }
      },
      "cell_type": "code",
      "source": [
        "df_nflx=df_nflx['2017-01-03':'2017-12-29']\n",
        "#removing the unnamed: 0 column from our data\n",
        "df_nflx=df_nflx.drop(['Unnamed: 0'],axis=1)\n",
        "df_nflx.head()"
      ],
      "execution_count": 8,
      "outputs": [
        {
          "output_type": "execute_result",
          "data": {
            "text/html": [
              "<div>\n",
              "<style scoped>\n",
              "    .dataframe tbody tr th:only-of-type {\n",
              "        vertical-align: middle;\n",
              "    }\n",
              "\n",
              "    .dataframe tbody tr th {\n",
              "        vertical-align: top;\n",
              "    }\n",
              "\n",
              "    .dataframe thead th {\n",
              "        text-align: right;\n",
              "    }\n",
              "</style>\n",
              "<table border=\"1\" class=\"dataframe\">\n",
              "  <thead>\n",
              "    <tr style=\"text-align: right;\">\n",
              "      <th></th>\n",
              "      <th>change</th>\n",
              "      <th>changeOverTime</th>\n",
              "      <th>changePercent</th>\n",
              "      <th>close</th>\n",
              "      <th>high</th>\n",
              "      <th>label</th>\n",
              "      <th>low</th>\n",
              "      <th>open</th>\n",
              "      <th>unadjustedVolume</th>\n",
              "      <th>volume</th>\n",
              "      <th>vwap</th>\n",
              "    </tr>\n",
              "    <tr>\n",
              "      <th>date</th>\n",
              "      <th></th>\n",
              "      <th></th>\n",
              "      <th></th>\n",
              "      <th></th>\n",
              "      <th></th>\n",
              "      <th></th>\n",
              "      <th></th>\n",
              "      <th></th>\n",
              "      <th></th>\n",
              "      <th></th>\n",
              "      <th></th>\n",
              "    </tr>\n",
              "  </thead>\n",
              "  <tbody>\n",
              "    <tr>\n",
              "      <th>2017-01-03</th>\n",
              "      <td>3.69</td>\n",
              "      <td>0.359168</td>\n",
              "      <td>2.981</td>\n",
              "      <td>127.49</td>\n",
              "      <td>128.19</td>\n",
              "      <td>Jan 3, 17</td>\n",
              "      <td>124.31</td>\n",
              "      <td>124.96</td>\n",
              "      <td>9437856</td>\n",
              "      <td>9437856</td>\n",
              "      <td>127.1049</td>\n",
              "    </tr>\n",
              "    <tr>\n",
              "      <th>2017-01-04</th>\n",
              "      <td>1.92</td>\n",
              "      <td>0.379638</td>\n",
              "      <td>1.506</td>\n",
              "      <td>129.41</td>\n",
              "      <td>130.17</td>\n",
              "      <td>Jan 4, 17</td>\n",
              "      <td>126.55</td>\n",
              "      <td>127.49</td>\n",
              "      <td>7843559</td>\n",
              "      <td>7843559</td>\n",
              "      <td>128.7423</td>\n",
              "    </tr>\n",
              "    <tr>\n",
              "      <th>2017-01-05</th>\n",
              "      <td>2.40</td>\n",
              "      <td>0.405224</td>\n",
              "      <td>1.855</td>\n",
              "      <td>131.81</td>\n",
              "      <td>132.75</td>\n",
              "      <td>Jan 5, 17</td>\n",
              "      <td>128.90</td>\n",
              "      <td>129.22</td>\n",
              "      <td>10185516</td>\n",
              "      <td>10185516</td>\n",
              "      <td>131.4254</td>\n",
              "    </tr>\n",
              "    <tr>\n",
              "      <th>2017-01-06</th>\n",
              "      <td>-0.74</td>\n",
              "      <td>0.397335</td>\n",
              "      <td>-0.561</td>\n",
              "      <td>131.07</td>\n",
              "      <td>133.88</td>\n",
              "      <td>Jan 6, 17</td>\n",
              "      <td>129.81</td>\n",
              "      <td>132.08</td>\n",
              "      <td>10657878</td>\n",
              "      <td>10657878</td>\n",
              "      <td>132.0377</td>\n",
              "    </tr>\n",
              "    <tr>\n",
              "      <th>2017-01-09</th>\n",
              "      <td>-0.12</td>\n",
              "      <td>0.396055</td>\n",
              "      <td>-0.092</td>\n",
              "      <td>130.95</td>\n",
              "      <td>131.99</td>\n",
              "      <td>Jan 9, 17</td>\n",
              "      <td>129.89</td>\n",
              "      <td>131.48</td>\n",
              "      <td>5771835</td>\n",
              "      <td>5771835</td>\n",
              "      <td>131.0836</td>\n",
              "    </tr>\n",
              "  </tbody>\n",
              "</table>\n",
              "</div>"
            ],
            "text/plain": [
              "            change  changeOverTime  changePercent   close    high      label  \\\n",
              "date                                                                           \n",
              "2017-01-03    3.69        0.359168          2.981  127.49  128.19  Jan 3, 17   \n",
              "2017-01-04    1.92        0.379638          1.506  129.41  130.17  Jan 4, 17   \n",
              "2017-01-05    2.40        0.405224          1.855  131.81  132.75  Jan 5, 17   \n",
              "2017-01-06   -0.74        0.397335         -0.561  131.07  133.88  Jan 6, 17   \n",
              "2017-01-09   -0.12        0.396055         -0.092  130.95  131.99  Jan 9, 17   \n",
              "\n",
              "               low    open  unadjustedVolume    volume      vwap  \n",
              "date                                                              \n",
              "2017-01-03  124.31  124.96           9437856   9437856  127.1049  \n",
              "2017-01-04  126.55  127.49           7843559   7843559  128.7423  \n",
              "2017-01-05  128.90  129.22          10185516  10185516  131.4254  \n",
              "2017-01-06  129.81  132.08          10657878  10657878  132.0377  \n",
              "2017-01-09  129.89  131.48           5771835   5771835  131.0836  "
            ]
          },
          "metadata": {
            "tags": []
          },
          "execution_count": 8
        }
      ]
    },
    {
      "metadata": {
        "id": "pzBvBo3EIIMS",
        "colab_type": "code",
        "colab": {
          "autoexec": {
            "startup": false,
            "wait_interval": 0
          },
          "base_uri": "https://localhost:8080/",
          "height": 235
        },
        "outputId": "9e6dae6a-1f8a-4678-8ac8-2652821e4bf7",
        "executionInfo": {
          "status": "ok",
          "timestamp": 1529433124602,
          "user_tz": -330,
          "elapsed": 763,
          "user": {
            "displayName": "Vishal Vatsal",
            "photoUrl": "//lh5.googleusercontent.com/-qU-MxtnUxLg/AAAAAAAAAAI/AAAAAAAAADs/EYg-rIVjrjM/s50-c-k-no/photo.jpg",
            "userId": "114291710114027202565"
          }
        }
      },
      "cell_type": "code",
      "source": [
        "df_amzn=df_amzn['2017-01-03':'2017-12-29']\n",
        "#removing the unnamed: 0 column from our data\n",
        "df_amzn=df_amzn.drop(['Unnamed: 0'],axis=1)\n",
        "df_amzn.head()\n"
      ],
      "execution_count": 9,
      "outputs": [
        {
          "output_type": "execute_result",
          "data": {
            "text/html": [
              "<div>\n",
              "<style scoped>\n",
              "    .dataframe tbody tr th:only-of-type {\n",
              "        vertical-align: middle;\n",
              "    }\n",
              "\n",
              "    .dataframe tbody tr th {\n",
              "        vertical-align: top;\n",
              "    }\n",
              "\n",
              "    .dataframe thead th {\n",
              "        text-align: right;\n",
              "    }\n",
              "</style>\n",
              "<table border=\"1\" class=\"dataframe\">\n",
              "  <thead>\n",
              "    <tr style=\"text-align: right;\">\n",
              "      <th></th>\n",
              "      <th>change</th>\n",
              "      <th>changeOverTime</th>\n",
              "      <th>changePercent</th>\n",
              "      <th>close</th>\n",
              "      <th>high</th>\n",
              "      <th>label</th>\n",
              "      <th>low</th>\n",
              "      <th>open</th>\n",
              "      <th>unadjustedVolume</th>\n",
              "      <th>volume</th>\n",
              "      <th>vwap</th>\n",
              "    </tr>\n",
              "    <tr>\n",
              "      <th>date</th>\n",
              "      <th></th>\n",
              "      <th></th>\n",
              "      <th></th>\n",
              "      <th></th>\n",
              "      <th></th>\n",
              "      <th></th>\n",
              "      <th></th>\n",
              "      <th></th>\n",
              "      <th></th>\n",
              "      <th></th>\n",
              "      <th></th>\n",
              "    </tr>\n",
              "  </thead>\n",
              "  <tbody>\n",
              "    <tr>\n",
              "      <th>2017-01-03</th>\n",
              "      <td>3.80</td>\n",
              "      <td>0.055545</td>\n",
              "      <td>0.507</td>\n",
              "      <td>753.67</td>\n",
              "      <td>758.7595</td>\n",
              "      <td>Jan 3, 17</td>\n",
              "      <td>747.7000</td>\n",
              "      <td>757.92</td>\n",
              "      <td>3521066</td>\n",
              "      <td>3521066</td>\n",
              "      <td>752.2209</td>\n",
              "    </tr>\n",
              "    <tr>\n",
              "      <th>2017-01-04</th>\n",
              "      <td>3.51</td>\n",
              "      <td>0.060461</td>\n",
              "      <td>0.466</td>\n",
              "      <td>757.18</td>\n",
              "      <td>759.6800</td>\n",
              "      <td>Jan 4, 17</td>\n",
              "      <td>754.2000</td>\n",
              "      <td>758.39</td>\n",
              "      <td>2510526</td>\n",
              "      <td>2510526</td>\n",
              "      <td>757.2537</td>\n",
              "    </tr>\n",
              "    <tr>\n",
              "      <th>2017-01-05</th>\n",
              "      <td>23.27</td>\n",
              "      <td>0.093052</td>\n",
              "      <td>3.073</td>\n",
              "      <td>780.45</td>\n",
              "      <td>782.3999</td>\n",
              "      <td>Jan 5, 17</td>\n",
              "      <td>760.2557</td>\n",
              "      <td>761.55</td>\n",
              "      <td>5830068</td>\n",
              "      <td>5830068</td>\n",
              "      <td>774.5182</td>\n",
              "    </tr>\n",
              "    <tr>\n",
              "      <th>2017-01-06</th>\n",
              "      <td>15.54</td>\n",
              "      <td>0.114816</td>\n",
              "      <td>1.991</td>\n",
              "      <td>795.99</td>\n",
              "      <td>799.4400</td>\n",
              "      <td>Jan 6, 17</td>\n",
              "      <td>778.4800</td>\n",
              "      <td>782.36</td>\n",
              "      <td>5986234</td>\n",
              "      <td>5986234</td>\n",
              "      <td>791.9602</td>\n",
              "    </tr>\n",
              "    <tr>\n",
              "      <th>2017-01-09</th>\n",
              "      <td>0.93</td>\n",
              "      <td>0.116119</td>\n",
              "      <td>0.117</td>\n",
              "      <td>796.92</td>\n",
              "      <td>801.7742</td>\n",
              "      <td>Jan 9, 17</td>\n",
              "      <td>791.7700</td>\n",
              "      <td>798.00</td>\n",
              "      <td>3446109</td>\n",
              "      <td>3446109</td>\n",
              "      <td>796.8938</td>\n",
              "    </tr>\n",
              "  </tbody>\n",
              "</table>\n",
              "</div>"
            ],
            "text/plain": [
              "            change  changeOverTime  changePercent   close      high  \\\n",
              "date                                                                  \n",
              "2017-01-03    3.80        0.055545          0.507  753.67  758.7595   \n",
              "2017-01-04    3.51        0.060461          0.466  757.18  759.6800   \n",
              "2017-01-05   23.27        0.093052          3.073  780.45  782.3999   \n",
              "2017-01-06   15.54        0.114816          1.991  795.99  799.4400   \n",
              "2017-01-09    0.93        0.116119          0.117  796.92  801.7742   \n",
              "\n",
              "                label       low    open  unadjustedVolume   volume      vwap  \n",
              "date                                                                          \n",
              "2017-01-03  Jan 3, 17  747.7000  757.92           3521066  3521066  752.2209  \n",
              "2017-01-04  Jan 4, 17  754.2000  758.39           2510526  2510526  757.2537  \n",
              "2017-01-05  Jan 5, 17  760.2557  761.55           5830068  5830068  774.5182  \n",
              "2017-01-06  Jan 6, 17  778.4800  782.36           5986234  5986234  791.9602  \n",
              "2017-01-09  Jan 9, 17  791.7700  798.00           3446109  3446109  796.8938  "
            ]
          },
          "metadata": {
            "tags": []
          },
          "execution_count": 9
        }
      ]
    },
    {
      "metadata": {
        "id": "DMI67DQvIfZz",
        "colab_type": "code",
        "colab": {
          "autoexec": {
            "startup": false,
            "wait_interval": 0
          },
          "base_uri": "https://localhost:8080/",
          "height": 235
        },
        "outputId": "088a7f79-2a21-4775-9f03-7915a779276c",
        "executionInfo": {
          "status": "ok",
          "timestamp": 1529433129855,
          "user_tz": -330,
          "elapsed": 1019,
          "user": {
            "displayName": "Vishal Vatsal",
            "photoUrl": "//lh5.googleusercontent.com/-qU-MxtnUxLg/AAAAAAAAAAI/AAAAAAAAADs/EYg-rIVjrjM/s50-c-k-no/photo.jpg",
            "userId": "114291710114027202565"
          }
        }
      },
      "cell_type": "code",
      "source": [
        "df_fb=df_fb['2017-01-03':'2017-12-29']\n",
        "#removing the unnamed: 0 column from our data\n",
        "df_fb=df_fb.drop(['Unnamed: 0'],axis=1)\n",
        "df_fb.head()\n"
      ],
      "execution_count": 10,
      "outputs": [
        {
          "output_type": "execute_result",
          "data": {
            "text/html": [
              "<div>\n",
              "<style scoped>\n",
              "    .dataframe tbody tr th:only-of-type {\n",
              "        vertical-align: middle;\n",
              "    }\n",
              "\n",
              "    .dataframe tbody tr th {\n",
              "        vertical-align: top;\n",
              "    }\n",
              "\n",
              "    .dataframe thead th {\n",
              "        text-align: right;\n",
              "    }\n",
              "</style>\n",
              "<table border=\"1\" class=\"dataframe\">\n",
              "  <thead>\n",
              "    <tr style=\"text-align: right;\">\n",
              "      <th></th>\n",
              "      <th>change</th>\n",
              "      <th>changeOverTime</th>\n",
              "      <th>changePercent</th>\n",
              "      <th>close</th>\n",
              "      <th>high</th>\n",
              "      <th>label</th>\n",
              "      <th>low</th>\n",
              "      <th>open</th>\n",
              "      <th>unadjustedVolume</th>\n",
              "      <th>volume</th>\n",
              "      <th>vwap</th>\n",
              "    </tr>\n",
              "    <tr>\n",
              "      <th>date</th>\n",
              "      <th></th>\n",
              "      <th></th>\n",
              "      <th></th>\n",
              "      <th></th>\n",
              "      <th></th>\n",
              "      <th></th>\n",
              "      <th></th>\n",
              "      <th></th>\n",
              "      <th></th>\n",
              "      <th></th>\n",
              "      <th></th>\n",
              "    </tr>\n",
              "  </thead>\n",
              "  <tbody>\n",
              "    <tr>\n",
              "      <th>2017-01-03</th>\n",
              "      <td>1.81</td>\n",
              "      <td>0.030784</td>\n",
              "      <td>1.573</td>\n",
              "      <td>116.86</td>\n",
              "      <td>117.84</td>\n",
              "      <td>Jan 3, 17</td>\n",
              "      <td>115.5100</td>\n",
              "      <td>116.03</td>\n",
              "      <td>20663912</td>\n",
              "      <td>20663912</td>\n",
              "      <td>116.7974</td>\n",
              "    </tr>\n",
              "    <tr>\n",
              "      <th>2017-01-04</th>\n",
              "      <td>1.83</td>\n",
              "      <td>0.046926</td>\n",
              "      <td>1.566</td>\n",
              "      <td>118.69</td>\n",
              "      <td>119.66</td>\n",
              "      <td>Jan 4, 17</td>\n",
              "      <td>117.2900</td>\n",
              "      <td>117.55</td>\n",
              "      <td>19630932</td>\n",
              "      <td>19630932</td>\n",
              "      <td>118.4500</td>\n",
              "    </tr>\n",
              "    <tr>\n",
              "      <th>2017-01-05</th>\n",
              "      <td>1.98</td>\n",
              "      <td>0.064391</td>\n",
              "      <td>1.668</td>\n",
              "      <td>120.67</td>\n",
              "      <td>120.95</td>\n",
              "      <td>Jan 5, 17</td>\n",
              "      <td>118.3209</td>\n",
              "      <td>118.86</td>\n",
              "      <td>19492150</td>\n",
              "      <td>19492150</td>\n",
              "      <td>119.8618</td>\n",
              "    </tr>\n",
              "    <tr>\n",
              "      <th>2017-01-06</th>\n",
              "      <td>2.74</td>\n",
              "      <td>0.088560</td>\n",
              "      <td>2.271</td>\n",
              "      <td>123.41</td>\n",
              "      <td>123.88</td>\n",
              "      <td>Jan 6, 17</td>\n",
              "      <td>120.0300</td>\n",
              "      <td>120.98</td>\n",
              "      <td>28545263</td>\n",
              "      <td>28545263</td>\n",
              "      <td>122.8256</td>\n",
              "    </tr>\n",
              "    <tr>\n",
              "      <th>2017-01-09</th>\n",
              "      <td>1.49</td>\n",
              "      <td>0.101702</td>\n",
              "      <td>1.207</td>\n",
              "      <td>124.90</td>\n",
              "      <td>125.43</td>\n",
              "      <td>Jan 9, 17</td>\n",
              "      <td>123.0400</td>\n",
              "      <td>123.55</td>\n",
              "      <td>22880360</td>\n",
              "      <td>22880360</td>\n",
              "      <td>124.5825</td>\n",
              "    </tr>\n",
              "  </tbody>\n",
              "</table>\n",
              "</div>"
            ],
            "text/plain": [
              "            change  changeOverTime  changePercent   close    high      label  \\\n",
              "date                                                                           \n",
              "2017-01-03    1.81        0.030784          1.573  116.86  117.84  Jan 3, 17   \n",
              "2017-01-04    1.83        0.046926          1.566  118.69  119.66  Jan 4, 17   \n",
              "2017-01-05    1.98        0.064391          1.668  120.67  120.95  Jan 5, 17   \n",
              "2017-01-06    2.74        0.088560          2.271  123.41  123.88  Jan 6, 17   \n",
              "2017-01-09    1.49        0.101702          1.207  124.90  125.43  Jan 9, 17   \n",
              "\n",
              "                 low    open  unadjustedVolume    volume      vwap  \n",
              "date                                                                \n",
              "2017-01-03  115.5100  116.03          20663912  20663912  116.7974  \n",
              "2017-01-04  117.2900  117.55          19630932  19630932  118.4500  \n",
              "2017-01-05  118.3209  118.86          19492150  19492150  119.8618  \n",
              "2017-01-06  120.0300  120.98          28545263  28545263  122.8256  \n",
              "2017-01-09  123.0400  123.55          22880360  22880360  124.5825  "
            ]
          },
          "metadata": {
            "tags": []
          },
          "execution_count": 10
        }
      ]
    },
    {
      "metadata": {
        "id": "RvTa3lO_I7mh",
        "colab_type": "code",
        "colab": {
          "autoexec": {
            "startup": false,
            "wait_interval": 0
          },
          "base_uri": "https://localhost:8080/",
          "height": 235
        },
        "outputId": "69125b8d-6224-405d-a80d-734c6165efc0",
        "executionInfo": {
          "status": "ok",
          "timestamp": 1529433134195,
          "user_tz": -330,
          "elapsed": 1039,
          "user": {
            "displayName": "Vishal Vatsal",
            "photoUrl": "//lh5.googleusercontent.com/-qU-MxtnUxLg/AAAAAAAAAAI/AAAAAAAAADs/EYg-rIVjrjM/s50-c-k-no/photo.jpg",
            "userId": "114291710114027202565"
          }
        }
      },
      "cell_type": "code",
      "source": [
        "df_google=df_google['2017-01-03':'2017-12-29']\n",
        "#removing the unnamed: 0 column from our data\n",
        "df_goolge=df_google.drop(['Unnamed: 0'],axis=1)\n",
        "df_google.head()\n"
      ],
      "execution_count": 11,
      "outputs": [
        {
          "output_type": "execute_result",
          "data": {
            "text/html": [
              "<div>\n",
              "<style scoped>\n",
              "    .dataframe tbody tr th:only-of-type {\n",
              "        vertical-align: middle;\n",
              "    }\n",
              "\n",
              "    .dataframe tbody tr th {\n",
              "        vertical-align: top;\n",
              "    }\n",
              "\n",
              "    .dataframe thead th {\n",
              "        text-align: right;\n",
              "    }\n",
              "</style>\n",
              "<table border=\"1\" class=\"dataframe\">\n",
              "  <thead>\n",
              "    <tr style=\"text-align: right;\">\n",
              "      <th></th>\n",
              "      <th>Unnamed: 0</th>\n",
              "      <th>change</th>\n",
              "      <th>changeOverTime</th>\n",
              "      <th>changePercent</th>\n",
              "      <th>close</th>\n",
              "      <th>high</th>\n",
              "      <th>label</th>\n",
              "      <th>low</th>\n",
              "      <th>open</th>\n",
              "      <th>unadjustedVolume</th>\n",
              "      <th>volume</th>\n",
              "      <th>vwap</th>\n",
              "    </tr>\n",
              "    <tr>\n",
              "      <th>date</th>\n",
              "      <th></th>\n",
              "      <th></th>\n",
              "      <th></th>\n",
              "      <th></th>\n",
              "      <th></th>\n",
              "      <th></th>\n",
              "      <th></th>\n",
              "      <th></th>\n",
              "      <th></th>\n",
              "      <th></th>\n",
              "      <th></th>\n",
              "      <th></th>\n",
              "    </tr>\n",
              "  </thead>\n",
              "  <tbody>\n",
              "    <tr>\n",
              "      <th>2017-01-03</th>\n",
              "      <td>136</td>\n",
              "      <td>15.56</td>\n",
              "      <td>0.144279</td>\n",
              "      <td>1.964</td>\n",
              "      <td>808.01</td>\n",
              "      <td>811.435</td>\n",
              "      <td>Jan 3, 17</td>\n",
              "      <td>796.89</td>\n",
              "      <td>800.62</td>\n",
              "      <td>1959033</td>\n",
              "      <td>1959033</td>\n",
              "      <td>806.3091</td>\n",
              "    </tr>\n",
              "    <tr>\n",
              "      <th>2017-01-04</th>\n",
              "      <td>137</td>\n",
              "      <td>-0.24</td>\n",
              "      <td>0.143940</td>\n",
              "      <td>-0.030</td>\n",
              "      <td>807.77</td>\n",
              "      <td>813.430</td>\n",
              "      <td>Jan 4, 17</td>\n",
              "      <td>804.11</td>\n",
              "      <td>809.89</td>\n",
              "      <td>1515339</td>\n",
              "      <td>1515339</td>\n",
              "      <td>807.7649</td>\n",
              "    </tr>\n",
              "    <tr>\n",
              "      <th>2017-01-05</th>\n",
              "      <td>138</td>\n",
              "      <td>5.25</td>\n",
              "      <td>0.151374</td>\n",
              "      <td>0.650</td>\n",
              "      <td>813.02</td>\n",
              "      <td>813.740</td>\n",
              "      <td>Jan 5, 17</td>\n",
              "      <td>805.92</td>\n",
              "      <td>807.50</td>\n",
              "      <td>1340535</td>\n",
              "      <td>1340535</td>\n",
              "      <td>811.6976</td>\n",
              "    </tr>\n",
              "    <tr>\n",
              "      <th>2017-01-06</th>\n",
              "      <td>139</td>\n",
              "      <td>12.19</td>\n",
              "      <td>0.168638</td>\n",
              "      <td>1.499</td>\n",
              "      <td>825.21</td>\n",
              "      <td>828.960</td>\n",
              "      <td>Jan 6, 17</td>\n",
              "      <td>811.50</td>\n",
              "      <td>814.99</td>\n",
              "      <td>2017097</td>\n",
              "      <td>2017097</td>\n",
              "      <td>823.7603</td>\n",
              "    </tr>\n",
              "    <tr>\n",
              "      <th>2017-01-09</th>\n",
              "      <td>140</td>\n",
              "      <td>1.97</td>\n",
              "      <td>0.171427</td>\n",
              "      <td>0.239</td>\n",
              "      <td>827.18</td>\n",
              "      <td>830.430</td>\n",
              "      <td>Jan 9, 17</td>\n",
              "      <td>821.62</td>\n",
              "      <td>826.37</td>\n",
              "      <td>1408924</td>\n",
              "      <td>1408924</td>\n",
              "      <td>827.1363</td>\n",
              "    </tr>\n",
              "  </tbody>\n",
              "</table>\n",
              "</div>"
            ],
            "text/plain": [
              "            Unnamed: 0  change  changeOverTime  changePercent   close  \\\n",
              "date                                                                    \n",
              "2017-01-03         136   15.56        0.144279          1.964  808.01   \n",
              "2017-01-04         137   -0.24        0.143940         -0.030  807.77   \n",
              "2017-01-05         138    5.25        0.151374          0.650  813.02   \n",
              "2017-01-06         139   12.19        0.168638          1.499  825.21   \n",
              "2017-01-09         140    1.97        0.171427          0.239  827.18   \n",
              "\n",
              "               high      label     low    open  unadjustedVolume   volume  \\\n",
              "date                                                                        \n",
              "2017-01-03  811.435  Jan 3, 17  796.89  800.62           1959033  1959033   \n",
              "2017-01-04  813.430  Jan 4, 17  804.11  809.89           1515339  1515339   \n",
              "2017-01-05  813.740  Jan 5, 17  805.92  807.50           1340535  1340535   \n",
              "2017-01-06  828.960  Jan 6, 17  811.50  814.99           2017097  2017097   \n",
              "2017-01-09  830.430  Jan 9, 17  821.62  826.37           1408924  1408924   \n",
              "\n",
              "                vwap  \n",
              "date                  \n",
              "2017-01-03  806.3091  \n",
              "2017-01-04  807.7649  \n",
              "2017-01-05  811.6976  \n",
              "2017-01-06  823.7603  \n",
              "2017-01-09  827.1363  "
            ]
          },
          "metadata": {
            "tags": []
          },
          "execution_count": 11
        }
      ]
    },
    {
      "metadata": {
        "id": "F4Ypge9CJw5Y",
        "colab_type": "code",
        "colab": {
          "autoexec": {
            "startup": false,
            "wait_interval": 0
          },
          "base_uri": "https://localhost:8080/",
          "height": 235
        },
        "outputId": "06ed6c48-39c0-44e5-da81-e080b46782b9",
        "executionInfo": {
          "status": "ok",
          "timestamp": 1529433143663,
          "user_tz": -330,
          "elapsed": 1094,
          "user": {
            "displayName": "Vishal Vatsal",
            "photoUrl": "//lh5.googleusercontent.com/-qU-MxtnUxLg/AAAAAAAAAAI/AAAAAAAAADs/EYg-rIVjrjM/s50-c-k-no/photo.jpg",
            "userId": "114291710114027202565"
          }
        }
      },
      "cell_type": "code",
      "source": [
        "df_apple=df_apple['2017-01-03':'2017-12-29']\n",
        "#removing the unnamed: 0 column from our data\n",
        "df_apple=df_apple.drop(['Unnamed: 0'],axis=1)\n",
        "df_apple.head()\n"
      ],
      "execution_count": 12,
      "outputs": [
        {
          "output_type": "execute_result",
          "data": {
            "text/html": [
              "<div>\n",
              "<style scoped>\n",
              "    .dataframe tbody tr th:only-of-type {\n",
              "        vertical-align: middle;\n",
              "    }\n",
              "\n",
              "    .dataframe tbody tr th {\n",
              "        vertical-align: top;\n",
              "    }\n",
              "\n",
              "    .dataframe thead th {\n",
              "        text-align: right;\n",
              "    }\n",
              "</style>\n",
              "<table border=\"1\" class=\"dataframe\">\n",
              "  <thead>\n",
              "    <tr style=\"text-align: right;\">\n",
              "      <th></th>\n",
              "      <th>change</th>\n",
              "      <th>changeOverTime</th>\n",
              "      <th>changePercent</th>\n",
              "      <th>close</th>\n",
              "      <th>high</th>\n",
              "      <th>label</th>\n",
              "      <th>low</th>\n",
              "      <th>open</th>\n",
              "      <th>unadjustedVolume</th>\n",
              "      <th>volume</th>\n",
              "      <th>vwap</th>\n",
              "    </tr>\n",
              "    <tr>\n",
              "      <th>date</th>\n",
              "      <th></th>\n",
              "      <th></th>\n",
              "      <th></th>\n",
              "      <th></th>\n",
              "      <th></th>\n",
              "      <th></th>\n",
              "      <th></th>\n",
              "      <th></th>\n",
              "      <th></th>\n",
              "      <th></th>\n",
              "      <th></th>\n",
              "    </tr>\n",
              "  </thead>\n",
              "  <tbody>\n",
              "    <tr>\n",
              "      <th>2017-01-03</th>\n",
              "      <td>0.322217</td>\n",
              "      <td>0.234267</td>\n",
              "      <td>0.285</td>\n",
              "      <td>113.4101</td>\n",
              "      <td>113.5859</td>\n",
              "      <td>Jan 3, 17</td>\n",
              "      <td>112.0529</td>\n",
              "      <td>113.0684</td>\n",
              "      <td>28781865</td>\n",
              "      <td>28781865</td>\n",
              "      <td>112.8564</td>\n",
              "    </tr>\n",
              "    <tr>\n",
              "      <th>2017-01-04</th>\n",
              "      <td>-0.126933</td>\n",
              "      <td>0.232886</td>\n",
              "      <td>-0.112</td>\n",
              "      <td>113.2832</td>\n",
              "      <td>113.7617</td>\n",
              "      <td>Jan 4, 17</td>\n",
              "      <td>113.0196</td>\n",
              "      <td>113.1172</td>\n",
              "      <td>21118116</td>\n",
              "      <td>21118116</td>\n",
              "      <td>113.3846</td>\n",
              "    </tr>\n",
              "    <tr>\n",
              "      <th>2017-01-05</th>\n",
              "      <td>0.576082</td>\n",
              "      <td>0.239155</td>\n",
              "      <td>0.509</td>\n",
              "      <td>113.8593</td>\n",
              "      <td>114.1075</td>\n",
              "      <td>Jan 5, 17</td>\n",
              "      <td>113.0782</td>\n",
              "      <td>113.1856</td>\n",
              "      <td>22193587</td>\n",
              "      <td>22193587</td>\n",
              "      <td>113.7013</td>\n",
              "    </tr>\n",
              "    <tr>\n",
              "      <th>2017-01-06</th>\n",
              "      <td>1.269300</td>\n",
              "      <td>0.252969</td>\n",
              "      <td>1.115</td>\n",
              "      <td>115.1286</td>\n",
              "      <td>115.3727</td>\n",
              "      <td>Jan 6, 17</td>\n",
              "      <td>113.7226</td>\n",
              "      <td>114.0253</td>\n",
              "      <td>31751900</td>\n",
              "      <td>31751900</td>\n",
              "      <td>114.9421</td>\n",
              "    </tr>\n",
              "    <tr>\n",
              "      <th>2017-01-09</th>\n",
              "      <td>1.054500</td>\n",
              "      <td>0.264447</td>\n",
              "      <td>0.916</td>\n",
              "      <td>116.1832</td>\n",
              "      <td>116.6128</td>\n",
              "      <td>Jan 9, 17</td>\n",
              "      <td>115.1579</td>\n",
              "      <td>115.1677</td>\n",
              "      <td>33561948</td>\n",
              "      <td>33561948</td>\n",
              "      <td>116.1630</td>\n",
              "    </tr>\n",
              "  </tbody>\n",
              "</table>\n",
              "</div>"
            ],
            "text/plain": [
              "              change  changeOverTime  changePercent     close      high  \\\n",
              "date                                                                      \n",
              "2017-01-03  0.322217        0.234267          0.285  113.4101  113.5859   \n",
              "2017-01-04 -0.126933        0.232886         -0.112  113.2832  113.7617   \n",
              "2017-01-05  0.576082        0.239155          0.509  113.8593  114.1075   \n",
              "2017-01-06  1.269300        0.252969          1.115  115.1286  115.3727   \n",
              "2017-01-09  1.054500        0.264447          0.916  116.1832  116.6128   \n",
              "\n",
              "                label       low      open  unadjustedVolume    volume  \\\n",
              "date                                                                    \n",
              "2017-01-03  Jan 3, 17  112.0529  113.0684          28781865  28781865   \n",
              "2017-01-04  Jan 4, 17  113.0196  113.1172          21118116  21118116   \n",
              "2017-01-05  Jan 5, 17  113.0782  113.1856          22193587  22193587   \n",
              "2017-01-06  Jan 6, 17  113.7226  114.0253          31751900  31751900   \n",
              "2017-01-09  Jan 9, 17  115.1579  115.1677          33561948  33561948   \n",
              "\n",
              "                vwap  \n",
              "date                  \n",
              "2017-01-03  112.8564  \n",
              "2017-01-04  113.3846  \n",
              "2017-01-05  113.7013  \n",
              "2017-01-06  114.9421  \n",
              "2017-01-09  116.1630  "
            ]
          },
          "metadata": {
            "tags": []
          },
          "execution_count": 12
        }
      ]
    },
    {
      "metadata": {
        "id": "ShiFfX5KRNXi",
        "colab_type": "text"
      },
      "cell_type": "markdown",
      "source": [
        "##Plotting the stock prices\n",
        "\n",
        "Now we will create a new dataframe that consists of all the closing prices of each stock.Then we will plot a graph for these closing prices."
      ]
    },
    {
      "metadata": {
        "id": "hL8iu3s_KCqs",
        "colab_type": "code",
        "colab": {
          "autoexec": {
            "startup": false,
            "wait_interval": 0
          },
          "base_uri": "https://localhost:8080/",
          "height": 235
        },
        "outputId": "62bb2d73-89fc-44a8-a995-d5050f91466b",
        "executionInfo": {
          "status": "ok",
          "timestamp": 1529433158192,
          "user_tz": -330,
          "elapsed": 1066,
          "user": {
            "displayName": "Vishal Vatsal",
            "photoUrl": "//lh5.googleusercontent.com/-qU-MxtnUxLg/AAAAAAAAAAI/AAAAAAAAADs/EYg-rIVjrjM/s50-c-k-no/photo.jpg",
            "userId": "114291710114027202565"
          }
        }
      },
      "cell_type": "code",
      "source": [
        "#Taking only the closing prices from each dataset and creating a dictionary to refer it via a key.\n",
        "stocks=pd.DataFrame({\"GOOGL\":df_google['close'],\"AMZN\":df_amzn['close'],\"FB\":df_fb['close'],\"NFLX\":df_nflx['close'],\"AAPL\":df_apple['close']})\n",
        "stocks.head()"
      ],
      "execution_count": 13,
      "outputs": [
        {
          "output_type": "execute_result",
          "data": {
            "text/html": [
              "<div>\n",
              "<style scoped>\n",
              "    .dataframe tbody tr th:only-of-type {\n",
              "        vertical-align: middle;\n",
              "    }\n",
              "\n",
              "    .dataframe tbody tr th {\n",
              "        vertical-align: top;\n",
              "    }\n",
              "\n",
              "    .dataframe thead th {\n",
              "        text-align: right;\n",
              "    }\n",
              "</style>\n",
              "<table border=\"1\" class=\"dataframe\">\n",
              "  <thead>\n",
              "    <tr style=\"text-align: right;\">\n",
              "      <th></th>\n",
              "      <th>AAPL</th>\n",
              "      <th>AMZN</th>\n",
              "      <th>FB</th>\n",
              "      <th>GOOGL</th>\n",
              "      <th>NFLX</th>\n",
              "    </tr>\n",
              "    <tr>\n",
              "      <th>date</th>\n",
              "      <th></th>\n",
              "      <th></th>\n",
              "      <th></th>\n",
              "      <th></th>\n",
              "      <th></th>\n",
              "    </tr>\n",
              "  </thead>\n",
              "  <tbody>\n",
              "    <tr>\n",
              "      <th>2017-01-03</th>\n",
              "      <td>113.4101</td>\n",
              "      <td>753.67</td>\n",
              "      <td>116.86</td>\n",
              "      <td>808.01</td>\n",
              "      <td>127.49</td>\n",
              "    </tr>\n",
              "    <tr>\n",
              "      <th>2017-01-04</th>\n",
              "      <td>113.2832</td>\n",
              "      <td>757.18</td>\n",
              "      <td>118.69</td>\n",
              "      <td>807.77</td>\n",
              "      <td>129.41</td>\n",
              "    </tr>\n",
              "    <tr>\n",
              "      <th>2017-01-05</th>\n",
              "      <td>113.8593</td>\n",
              "      <td>780.45</td>\n",
              "      <td>120.67</td>\n",
              "      <td>813.02</td>\n",
              "      <td>131.81</td>\n",
              "    </tr>\n",
              "    <tr>\n",
              "      <th>2017-01-06</th>\n",
              "      <td>115.1286</td>\n",
              "      <td>795.99</td>\n",
              "      <td>123.41</td>\n",
              "      <td>825.21</td>\n",
              "      <td>131.07</td>\n",
              "    </tr>\n",
              "    <tr>\n",
              "      <th>2017-01-09</th>\n",
              "      <td>116.1832</td>\n",
              "      <td>796.92</td>\n",
              "      <td>124.90</td>\n",
              "      <td>827.18</td>\n",
              "      <td>130.95</td>\n",
              "    </tr>\n",
              "  </tbody>\n",
              "</table>\n",
              "</div>"
            ],
            "text/plain": [
              "                AAPL    AMZN      FB   GOOGL    NFLX\n",
              "date                                                \n",
              "2017-01-03  113.4101  753.67  116.86  808.01  127.49\n",
              "2017-01-04  113.2832  757.18  118.69  807.77  129.41\n",
              "2017-01-05  113.8593  780.45  120.67  813.02  131.81\n",
              "2017-01-06  115.1286  795.99  123.41  825.21  131.07\n",
              "2017-01-09  116.1832  796.92  124.90  827.18  130.95"
            ]
          },
          "metadata": {
            "tags": []
          },
          "execution_count": 13
        }
      ]
    },
    {
      "metadata": {
        "id": "BHGz97WzLnsJ",
        "colab_type": "code",
        "colab": {
          "autoexec": {
            "startup": false,
            "wait_interval": 0
          },
          "base_uri": "https://localhost:8080/",
          "height": 502
        },
        "outputId": "ab760d32-32ee-474d-872d-d54d28617f2e",
        "executionInfo": {
          "status": "ok",
          "timestamp": 1529433166475,
          "user_tz": -330,
          "elapsed": 1648,
          "user": {
            "displayName": "Vishal Vatsal",
            "photoUrl": "//lh5.googleusercontent.com/-qU-MxtnUxLg/AAAAAAAAAAI/AAAAAAAAADs/EYg-rIVjrjM/s50-c-k-no/photo.jpg",
            "userId": "114291710114027202565"
          }
        }
      },
      "cell_type": "code",
      "source": [
        "ax=stocks.plot(grid=True,figsize=(10,8),legend=True)\n",
        "#setting the x label\n",
        "plt.xlabel(\"Date\")\n",
        "#setting the y label\n",
        "plt.ylabel(\"Price(USD)\")\n",
        "#giving a title to the graph\n",
        "plt.title(\"Stock Prices\")\n",
        "#setting a background color\n",
        "ax.set_facecolor(\"silver\")\n",
        "plt.show()"
      ],
      "execution_count": 14,
      "outputs": [
        {
          "output_type": "display_data",
          "data": {
            "image/png": "[encoded data removed]",
            "text/plain": [
              "<matplotlib.figure.Figure at 0x7f31100cf4a8>"
            ]
          },
          "metadata": {
            "tags": []
          }
        }
      ]
    },
    {
      "metadata": {
        "id": "yyLbZ_urSKRd",
        "colab_type": "text"
      },
      "cell_type": "markdown",
      "source": [
        "Here we see that the prices of Google and Amazon stocks are higher as compared to other three.So it makes the other three prices look more volatile.One solution is to use one scale for Amazon and Google and one for the remaining three."
      ]
    },
    {
      "metadata": {
        "id": "EZULJIXyMLZd",
        "colab_type": "code",
        "colab": {
          "autoexec": {
            "startup": false,
            "wait_interval": 0
          },
          "base_uri": "https://localhost:8080/",
          "height": 502
        },
        "outputId": "bfd4d184-a5e5-486c-9687-a03326efa69e",
        "executionInfo": {
          "status": "ok",
          "timestamp": 1529433184247,
          "user_tz": -330,
          "elapsed": 1941,
          "user": {
            "displayName": "Vishal Vatsal",
            "photoUrl": "//lh5.googleusercontent.com/-qU-MxtnUxLg/AAAAAAAAAAI/AAAAAAAAADs/EYg-rIVjrjM/s50-c-k-no/photo.jpg",
            "userId": "114291710114027202565"
          }
        }
      },
      "cell_type": "code",
      "source": [
        "#Setting a different y for apple,facebook and netflix\n",
        "ax=stocks.plot(secondary_y=[\"AAPL\",\"FB\",\"NFLX\"],grid=True,figsize=(10,8))\n",
        "plt.ylabel(\"Price(USD)\")\n",
        "plt.title(\"Stock Prices\")\n",
        "ax.set_facecolor(\"silver\")\n",
        "plt.show()"
      ],
      "execution_count": 15,
      "outputs": [
        {
          "output_type": "display_data",
          "data": {
            "image/png": "[encoded data removed]",
            "text/plain": [
              "<matplotlib.figure.Figure at 0x7f31100cfd68>"
            ]
          },
          "metadata": {
            "tags": []
          }
        }
      ]
    },
    {
      "metadata": {
        "id": "yP82tEEbTYHp",
        "colab_type": "text"
      },
      "cell_type": "markdown",
      "source": [
        "The other solution is to plot the percentage change or return of a stock which gives a better information about profitability of a stock."
      ]
    },
    {
      "metadata": {
        "id": "gyYzrkwUMLYq",
        "colab_type": "code",
        "colab": {
          "autoexec": {
            "startup": false,
            "wait_interval": 0
          },
          "base_uri": "https://localhost:8080/",
          "height": 235
        },
        "outputId": "fff07f0b-50ee-4582-f26a-56378fd8af9c",
        "executionInfo": {
          "status": "ok",
          "timestamp": 1529435640943,
          "user_tz": -330,
          "elapsed": 1063,
          "user": {
            "displayName": "Vishal Vatsal",
            "photoUrl": "//lh5.googleusercontent.com/-qU-MxtnUxLg/AAAAAAAAAAI/AAAAAAAAADs/EYg-rIVjrjM/s50-c-k-no/photo.jpg",
            "userId": "114291710114027202565"
          }
        }
      },
      "cell_type": "code",
      "source": [
        "stocks1=pd.DataFrame({\"GOOGL\":df_google['changePercent'],\"AMZN\":df_amzn['changePercent'],\"FB\":df_fb['changePercent'],\"NFLX\":df_nflx['changePercent'],\"AAPL\":df_apple['changePercent']})\n",
        "stocks1.head()"
      ],
      "execution_count": 29,
      "outputs": [
        {
          "output_type": "execute_result",
          "data": {
            "text/html": [
              "<div>\n",
              "<style scoped>\n",
              "    .dataframe tbody tr th:only-of-type {\n",
              "        vertical-align: middle;\n",
              "    }\n",
              "\n",
              "    .dataframe tbody tr th {\n",
              "        vertical-align: top;\n",
              "    }\n",
              "\n",
              "    .dataframe thead th {\n",
              "        text-align: right;\n",
              "    }\n",
              "</style>\n",
              "<table border=\"1\" class=\"dataframe\">\n",
              "  <thead>\n",
              "    <tr style=\"text-align: right;\">\n",
              "      <th></th>\n",
              "      <th>AAPL</th>\n",
              "      <th>AMZN</th>\n",
              "      <th>FB</th>\n",
              "      <th>GOOGL</th>\n",
              "      <th>NFLX</th>\n",
              "    </tr>\n",
              "    <tr>\n",
              "      <th>date</th>\n",
              "      <th></th>\n",
              "      <th></th>\n",
              "      <th></th>\n",
              "      <th></th>\n",
              "      <th></th>\n",
              "    </tr>\n",
              "  </thead>\n",
              "  <tbody>\n",
              "    <tr>\n",
              "      <th>2017-01-03</th>\n",
              "      <td>0.285</td>\n",
              "      <td>0.507</td>\n",
              "      <td>1.573</td>\n",
              "      <td>1.964</td>\n",
              "      <td>2.981</td>\n",
              "    </tr>\n",
              "    <tr>\n",
              "      <th>2017-01-04</th>\n",
              "      <td>-0.112</td>\n",
              "      <td>0.466</td>\n",
              "      <td>1.566</td>\n",
              "      <td>-0.030</td>\n",
              "      <td>1.506</td>\n",
              "    </tr>\n",
              "    <tr>\n",
              "      <th>2017-01-05</th>\n",
              "      <td>0.509</td>\n",
              "      <td>3.073</td>\n",
              "      <td>1.668</td>\n",
              "      <td>0.650</td>\n",
              "      <td>1.855</td>\n",
              "    </tr>\n",
              "    <tr>\n",
              "      <th>2017-01-06</th>\n",
              "      <td>1.115</td>\n",
              "      <td>1.991</td>\n",
              "      <td>2.271</td>\n",
              "      <td>1.499</td>\n",
              "      <td>-0.561</td>\n",
              "    </tr>\n",
              "    <tr>\n",
              "      <th>2017-01-09</th>\n",
              "      <td>0.916</td>\n",
              "      <td>0.117</td>\n",
              "      <td>1.207</td>\n",
              "      <td>0.239</td>\n",
              "      <td>-0.092</td>\n",
              "    </tr>\n",
              "  </tbody>\n",
              "</table>\n",
              "</div>"
            ],
            "text/plain": [
              "             AAPL   AMZN     FB  GOOGL   NFLX\n",
              "date                                         \n",
              "2017-01-03  0.285  0.507  1.573  1.964  2.981\n",
              "2017-01-04 -0.112  0.466  1.566 -0.030  1.506\n",
              "2017-01-05  0.509  3.073  1.668  0.650  1.855\n",
              "2017-01-06  1.115  1.991  2.271  1.499 -0.561\n",
              "2017-01-09  0.916  0.117  1.207  0.239 -0.092"
            ]
          },
          "metadata": {
            "tags": []
          },
          "execution_count": 29
        }
      ]
    },
    {
      "metadata": {
        "id": "Vy_UQ3K_T18U",
        "colab_type": "code",
        "colab": {
          "autoexec": {
            "startup": false,
            "wait_interval": 0
          },
          "base_uri": "https://localhost:8080/",
          "height": 813
        },
        "outputId": "4d1b01e3-dd04-4ebe-cb65-192aee6e5875",
        "executionInfo": {
          "status": "ok",
          "timestamp": 1529435650226,
          "user_tz": -330,
          "elapsed": 2232,
          "user": {
            "displayName": "Vishal Vatsal",
            "photoUrl": "//lh5.googleusercontent.com/-qU-MxtnUxLg/AAAAAAAAAAI/AAAAAAAAADs/EYg-rIVjrjM/s50-c-k-no/photo.jpg",
            "userId": "114291710114027202565"
          }
        }
      },
      "cell_type": "code",
      "source": [
        "stocks1.plot(grid=True,figsize=(16,14)).axhline(y = 1, color = \"black\", lw = 2)\n",
        "plt.show()"
      ],
      "execution_count": 30,
      "outputs": [
        {
          "output_type": "display_data",
          "data": {
            "image/png": "[encoded data removed]",
            "text/plain": [
              "<matplotlib.figure.Figure at 0x7f310c6840b8>"
            ]
          },
          "metadata": {
            "tags": []
          }
        }
      ]
    },
    {
      "metadata": {
        "id": "FSto6uNfVDZZ",
        "colab_type": "text"
      },
      "cell_type": "markdown",
      "source": [
        "This is a much more useful plot. We can now see how profitable each stock was since the beginning of the period. Furthermore, we see that these stocks are highly correlated; they generally move in the same direction, a fact that was difficult to see in the other charts."
      ]
    },
    {
      "metadata": {
        "id": "5XS4ieKIVIuM",
        "colab_type": "text"
      },
      "cell_type": "markdown",
      "source": [
        "##Finding covariance between stocks\n",
        "Correlation and covariance are two important factors for us to decide whether two stocks move together or away from each other.If stock A's return moves higher whenever stock B's return moves higher and the same relationship is found when each stock's return decreases, then these stocks are said to have a positive covariance."
      ]
    },
    {
      "metadata": {
        "id": "XrZJd3QrWjwm",
        "colab_type": "code",
        "colab": {
          "autoexec": {
            "startup": false,
            "wait_interval": 0
          },
          "base_uri": "https://localhost:8080/",
          "height": 204
        },
        "outputId": "9554866d-9e0a-4c59-a2dc-53e8c2f33d9c",
        "executionInfo": {
          "status": "ok",
          "timestamp": 1529433712800,
          "user_tz": -330,
          "elapsed": 1040,
          "user": {
            "displayName": "Vishal Vatsal",
            "photoUrl": "//lh5.googleusercontent.com/-qU-MxtnUxLg/AAAAAAAAAAI/AAAAAAAAADs/EYg-rIVjrjM/s50-c-k-no/photo.jpg",
            "userId": "114291710114027202565"
          }
        }
      },
      "cell_type": "code",
      "source": [
        "stocks1.cov()"
      ],
      "execution_count": 20,
      "outputs": [
        {
          "output_type": "execute_result",
          "data": {
            "text/html": [
              "<div>\n",
              "<style scoped>\n",
              "    .dataframe tbody tr th:only-of-type {\n",
              "        vertical-align: middle;\n",
              "    }\n",
              "\n",
              "    .dataframe tbody tr th {\n",
              "        vertical-align: top;\n",
              "    }\n",
              "\n",
              "    .dataframe thead th {\n",
              "        text-align: right;\n",
              "    }\n",
              "</style>\n",
              "<table border=\"1\" class=\"dataframe\">\n",
              "  <thead>\n",
              "    <tr style=\"text-align: right;\">\n",
              "      <th></th>\n",
              "      <th>AAPL</th>\n",
              "      <th>AMZN</th>\n",
              "      <th>FB</th>\n",
              "      <th>GOOGL</th>\n",
              "      <th>NFLX</th>\n",
              "    </tr>\n",
              "  </thead>\n",
              "  <tbody>\n",
              "    <tr>\n",
              "      <th>AAPL</th>\n",
              "      <td>1.316574</td>\n",
              "      <td>0.766396</td>\n",
              "      <td>0.660220</td>\n",
              "      <td>0.503448</td>\n",
              "      <td>0.690021</td>\n",
              "    </tr>\n",
              "    <tr>\n",
              "      <th>AMZN</th>\n",
              "      <td>0.766396</td>\n",
              "      <td>1.744183</td>\n",
              "      <td>0.924186</td>\n",
              "      <td>0.828488</td>\n",
              "      <td>0.922566</td>\n",
              "    </tr>\n",
              "    <tr>\n",
              "      <th>FB</th>\n",
              "      <td>0.660220</td>\n",
              "      <td>0.924186</td>\n",
              "      <td>1.148266</td>\n",
              "      <td>0.728321</td>\n",
              "      <td>0.965934</td>\n",
              "    </tr>\n",
              "    <tr>\n",
              "      <th>GOOGL</th>\n",
              "      <td>0.503448</td>\n",
              "      <td>0.828488</td>\n",
              "      <td>0.728321</td>\n",
              "      <td>0.927214</td>\n",
              "      <td>0.811822</td>\n",
              "    </tr>\n",
              "    <tr>\n",
              "      <th>NFLX</th>\n",
              "      <td>0.690021</td>\n",
              "      <td>0.922566</td>\n",
              "      <td>0.965934</td>\n",
              "      <td>0.811822</td>\n",
              "      <td>3.103877</td>\n",
              "    </tr>\n",
              "  </tbody>\n",
              "</table>\n",
              "</div>"
            ],
            "text/plain": [
              "           AAPL      AMZN        FB     GOOGL      NFLX\n",
              "AAPL   1.316574  0.766396  0.660220  0.503448  0.690021\n",
              "AMZN   0.766396  1.744183  0.924186  0.828488  0.922566\n",
              "FB     0.660220  0.924186  1.148266  0.728321  0.965934\n",
              "GOOGL  0.503448  0.828488  0.728321  0.927214  0.811822\n",
              "NFLX   0.690021  0.922566  0.965934  0.811822  3.103877"
            ]
          },
          "metadata": {
            "tags": []
          },
          "execution_count": 20
        }
      ]
    },
    {
      "metadata": {
        "id": "ai0b-8tTWqSA",
        "colab_type": "text"
      },
      "cell_type": "markdown",
      "source": [
        "We see that Amazon and Google have positive covariance so Google's return move higher when Amazon's return moves higher."
      ]
    },
    {
      "metadata": {
        "id": "ZS1sBWSAW-C1",
        "colab_type": "text"
      },
      "cell_type": "markdown",
      "source": [
        "##Finding correlation between the stocks\n",
        "\n",
        "By measuring and relating the variance of each variable, correlation gives an indication of the strength of the relationship."
      ]
    },
    {
      "metadata": {
        "id": "JprkqNlaNqHn",
        "colab_type": "code",
        "colab": {
          "autoexec": {
            "startup": false,
            "wait_interval": 0
          },
          "base_uri": "https://localhost:8080/",
          "height": 592
        },
        "outputId": "da410b28-1a30-49ed-e916-329f10c685fe",
        "executionInfo": {
          "status": "ok",
          "timestamp": 1529434279203,
          "user_tz": -330,
          "elapsed": 1103,
          "user": {
            "displayName": "Vishal Vatsal",
            "photoUrl": "//lh5.googleusercontent.com/-qU-MxtnUxLg/AAAAAAAAAAI/AAAAAAAAADs/EYg-rIVjrjM/s50-c-k-no/photo.jpg",
            "userId": "114291710114027202565"
          }
        }
      },
      "cell_type": "code",
      "source": [
        "plt.figure(figsize=(12,10))\n",
        "sns.heatmap(stocks1.corr(),annot=True,fmt='.2f',linewidth=.5)\n",
        "plt.show()"
      ],
      "execution_count": 22,
      "outputs": [
        {
          "output_type": "display_data",
          "data": {
            "image/png": "[encoded data removed]",
            "text/plain": [
              "<matplotlib.figure.Figure at 0x7f310c71ecf8>"
            ]
          },
          "metadata": {
            "tags": []
          }
        }
      ]
    },
    {
      "metadata": {
        "id": "JSFtvzzDY2cK",
        "colab_type": "text"
      },
      "cell_type": "markdown",
      "source": [
        "Here we see that correlation coefficient between Amazon and Google is 0.65 which is positive and hence we can say that **Amazon and Google stock prices are correlated.**"
      ]
    },
    {
      "metadata": {
        "id": "fvsL-MjyZMc0",
        "colab_type": "text"
      },
      "cell_type": "markdown",
      "source": [
        "##Finding the most volatile stock\n",
        "Volatility refers to the amount of uncertainty or risk related to the size of changes in a security's value. A higher volatility means that a security's value can potentially be spread out over a larger range of values. This means that the price of the security can change dramatically over a short time period in either direction. A lower volatility means that a security's value does not fluctuate dramatically, and tends to be more steady."
      ]
    },
    {
      "metadata": {
        "id": "_aJaA_GKajRq",
        "colab_type": "code",
        "colab": {
          "autoexec": {
            "startup": false,
            "wait_interval": 0
          },
          "base_uri": "https://localhost:8080/",
          "height": 119
        },
        "outputId": "70b561c0-f8c2-46ae-be42-2b506401152d",
        "executionInfo": {
          "status": "ok",
          "timestamp": 1529434761596,
          "user_tz": -330,
          "elapsed": 1106,
          "user": {
            "displayName": "Vishal Vatsal",
            "photoUrl": "//lh5.googleusercontent.com/-qU-MxtnUxLg/AAAAAAAAAAI/AAAAAAAAADs/EYg-rIVjrjM/s50-c-k-no/photo.jpg",
            "userId": "114291710114027202565"
          }
        }
      },
      "cell_type": "code",
      "source": [
        "stocks1.std()"
      ],
      "execution_count": 23,
      "outputs": [
        {
          "output_type": "execute_result",
          "data": {
            "text/plain": [
              "AAPL     1.147420\n",
              "AMZN     1.320675\n",
              "FB       1.071572\n",
              "GOOGL    0.962919\n",
              "NFLX     1.761782\n",
              "dtype: float64"
            ]
          },
          "metadata": {
            "tags": []
          },
          "execution_count": 23
        }
      ]
    },
    {
      "metadata": {
        "id": "8vrdKXNAatwb",
        "colab_type": "text"
      },
      "cell_type": "markdown",
      "source": [
        "We see here that Netflix has the highest standard deviation(1.761782) which tells us how much the percentage return may deviate from the average"
      ]
    },
    {
      "metadata": {
        "id": "yFZb8FJ8bGP1",
        "colab_type": "text"
      },
      "cell_type": "markdown",
      "source": [
        "One measure of the relative volatility of a particular stock to the market is its beta. A beta approximates the overall volatility of a stock's returns against the returns of a relevant benchmark (usually the S&P 500 is used). For example, a stock with a beta value of 1.1 has historically moved 110% for every 100% move in the benchmark, based on price level. Conversely, a stock with a beta of .9 has historically moved 90% for every 100% move in the underlying index."
      ]
    },
    {
      "metadata": {
        "id": "IjWKcCKjbmez",
        "colab_type": "text"
      },
      "cell_type": "markdown",
      "source": [
        "Beta can be calculated by dividing the covariance of daily returns(not percentage) of a stock with a relative benchmark by the variance of the daily return of the benchmark. "
      ]
    },
    {
      "metadata": {
        "id": "Oy5RpQzqOspu",
        "colab_type": "code",
        "colab": {
          "autoexec": {
            "startup": false,
            "wait_interval": 0
          },
          "base_uri": "https://localhost:8080/",
          "height": 235
        },
        "outputId": "5261adb3-0ddb-4b23-dbf9-58864f01ff14",
        "executionInfo": {
          "status": "ok",
          "timestamp": 1529435231522,
          "user_tz": -330,
          "elapsed": 1037,
          "user": {
            "displayName": "Vishal Vatsal",
            "photoUrl": "//lh5.googleusercontent.com/-qU-MxtnUxLg/AAAAAAAAAAI/AAAAAAAAADs/EYg-rIVjrjM/s50-c-k-no/photo.jpg",
            "userId": "114291710114027202565"
          }
        }
      },
      "cell_type": "code",
      "source": [
        "#Downloading the data for S&P 500 which will act as a benchmark index.\n",
        "df_spy=pd.read_json('https://api.iextrading.com/1.0/stock/'+\"SPY\"+'/chart/2y')\n",
        "df_spy.to_csv(\"spystocks.csv\",index=False)\n",
        "df_spy=pd.read_csv(\"spystocks.csv\")\n",
        "df_spy.set_index('date',inplace=True)\n",
        "df_spy=df_spy.loc['2017-01-03':'2017-12-29']\n",
        "#Adding the S&P 500 percentage change to our dataframe\n",
        "stocks1=pd.DataFrame({\"GOOGL\":df_google['changePercent'],\"AMZN\":df_amzn['changePercent'],\"FB\":df_fb['changePercent'],\"NFLX\":df_nflx['changePercent'],\"AAPL\":df_apple['changePercent'],\"SPY\":df_spy['changePercent']})\n",
        "#Taking only the daily return without percentage\n",
        "stocks1=stocks1/100\n",
        "stocks1.head()"
      ],
      "execution_count": 24,
      "outputs": [
        {
          "output_type": "execute_result",
          "data": {
            "text/html": [
              "<div>\n",
              "<style scoped>\n",
              "    .dataframe tbody tr th:only-of-type {\n",
              "        vertical-align: middle;\n",
              "    }\n",
              "\n",
              "    .dataframe tbody tr th {\n",
              "        vertical-align: top;\n",
              "    }\n",
              "\n",
              "    .dataframe thead th {\n",
              "        text-align: right;\n",
              "    }\n",
              "</style>\n",
              "<table border=\"1\" class=\"dataframe\">\n",
              "  <thead>\n",
              "    <tr style=\"text-align: right;\">\n",
              "      <th></th>\n",
              "      <th>AAPL</th>\n",
              "      <th>AMZN</th>\n",
              "      <th>FB</th>\n",
              "      <th>GOOGL</th>\n",
              "      <th>NFLX</th>\n",
              "      <th>SPY</th>\n",
              "    </tr>\n",
              "    <tr>\n",
              "      <th>date</th>\n",
              "      <th></th>\n",
              "      <th></th>\n",
              "      <th></th>\n",
              "      <th></th>\n",
              "      <th></th>\n",
              "      <th></th>\n",
              "    </tr>\n",
              "  </thead>\n",
              "  <tbody>\n",
              "    <tr>\n",
              "      <th>2017-01-03</th>\n",
              "      <td>0.00285</td>\n",
              "      <td>0.00507</td>\n",
              "      <td>0.01573</td>\n",
              "      <td>0.01964</td>\n",
              "      <td>0.02981</td>\n",
              "      <td>0.00765</td>\n",
              "    </tr>\n",
              "    <tr>\n",
              "      <th>2017-01-04</th>\n",
              "      <td>-0.00112</td>\n",
              "      <td>0.00466</td>\n",
              "      <td>0.01566</td>\n",
              "      <td>-0.00030</td>\n",
              "      <td>0.01506</td>\n",
              "      <td>0.00595</td>\n",
              "    </tr>\n",
              "    <tr>\n",
              "      <th>2017-01-05</th>\n",
              "      <td>0.00509</td>\n",
              "      <td>0.03073</td>\n",
              "      <td>0.01668</td>\n",
              "      <td>0.00650</td>\n",
              "      <td>0.01855</td>\n",
              "      <td>-0.00079</td>\n",
              "    </tr>\n",
              "    <tr>\n",
              "      <th>2017-01-06</th>\n",
              "      <td>0.01115</td>\n",
              "      <td>0.01991</td>\n",
              "      <td>0.02271</td>\n",
              "      <td>0.01499</td>\n",
              "      <td>-0.00561</td>\n",
              "      <td>0.00358</td>\n",
              "    </tr>\n",
              "    <tr>\n",
              "      <th>2017-01-09</th>\n",
              "      <td>0.00916</td>\n",
              "      <td>0.00117</td>\n",
              "      <td>0.01207</td>\n",
              "      <td>0.00239</td>\n",
              "      <td>-0.00092</td>\n",
              "      <td>-0.00330</td>\n",
              "    </tr>\n",
              "  </tbody>\n",
              "</table>\n",
              "</div>"
            ],
            "text/plain": [
              "               AAPL     AMZN       FB    GOOGL     NFLX      SPY\n",
              "date                                                            \n",
              "2017-01-03  0.00285  0.00507  0.01573  0.01964  0.02981  0.00765\n",
              "2017-01-04 -0.00112  0.00466  0.01566 -0.00030  0.01506  0.00595\n",
              "2017-01-05  0.00509  0.03073  0.01668  0.00650  0.01855 -0.00079\n",
              "2017-01-06  0.01115  0.01991  0.02271  0.01499 -0.00561  0.00358\n",
              "2017-01-09  0.00916  0.00117  0.01207  0.00239 -0.00092 -0.00330"
            ]
          },
          "metadata": {
            "tags": []
          },
          "execution_count": 24
        }
      ]
    },
    {
      "metadata": {
        "id": "OQZGSNi2aZNJ",
        "colab_type": "code",
        "colab": {
          "autoexec": {
            "startup": false,
            "wait_interval": 0
          },
          "base_uri": "https://localhost:8080/",
          "height": 136
        },
        "outputId": "57f57d67-b2ea-40bb-fc4b-e420fe8cad66",
        "executionInfo": {
          "status": "ok",
          "timestamp": 1529435245410,
          "user_tz": -330,
          "elapsed": 987,
          "user": {
            "displayName": "Vishal Vatsal",
            "photoUrl": "//lh5.googleusercontent.com/-qU-MxtnUxLg/AAAAAAAAAAI/AAAAAAAAADs/EYg-rIVjrjM/s50-c-k-no/photo.jpg",
            "userId": "114291710114027202565"
          }
        }
      },
      "cell_type": "code",
      "source": [
        "#Calculating beta of a stock.\n",
        "beta=stocks1.cov()/stocks1['SPY'].var()\n",
        "beta['SPY']"
      ],
      "execution_count": 25,
      "outputs": [
        {
          "output_type": "execute_result",
          "data": {
            "text/plain": [
              "AAPL     1.368367\n",
              "AMZN     1.299926\n",
              "FB       1.259585\n",
              "GOOGL    1.219233\n",
              "NFLX     1.721539\n",
              "SPY      1.000000\n",
              "Name: SPY, dtype: float64"
            ]
          },
          "metadata": {
            "tags": []
          },
          "execution_count": 25
        }
      ]
    },
    {
      "metadata": {
        "id": "kJAWh6G4ceMz",
        "colab_type": "text"
      },
      "cell_type": "markdown",
      "source": [
        "Here we see that the beta of Netflix is 1.72 which indicates that it moved 172% for every 100% move of the benchmark and is the most volatile.So, we can say that **NetFlix is the most volatile stock**"
      ]
    }
  ]
}